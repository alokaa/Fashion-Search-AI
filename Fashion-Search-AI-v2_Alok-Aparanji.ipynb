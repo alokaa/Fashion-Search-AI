{
 "cells": [
  {
   "cell_type": "code",
   "execution_count": 1,
   "id": "92d5cdc4-5081-4ad5-a081-6d356d75abce",
   "metadata": {},
   "outputs": [
    {
     "name": "stderr",
     "output_type": "stream",
     "text": [
      "C:\\Users\\aloka\\AppData\\Local\\Temp\\ipykernel_22968\\869391818.py:10: DeprecationWarning: Importing display from IPython.core.display is deprecated since IPython 7.14, please import from IPython display\n",
      "  from IPython.core.display import display, HTML\n"
     ]
    }
   ],
   "source": [
    "import numpy as np\n",
    "import pandas as pd\n",
    "import chromadb\n",
    "import openai\n",
    "import json\n",
    "import ast\n",
    "\n",
    "from chromadb.utils.embedding_functions import OpenAIEmbeddingFunction\n",
    "from sentence_transformers import CrossEncoder, util\n",
    "from IPython.core.display import display, HTML\n",
    "from sentence_transformers import SentenceTransformer\n"
   ]
  },
  {
   "cell_type": "markdown",
   "id": "2f6cd114-46f9-465d-a29d-d1b14533a2bf",
   "metadata": {},
   "source": [
    "## 1. Loading the dataset"
   ]
  },
  {
   "cell_type": "code",
   "execution_count": 3,
   "id": "83d7a980-ebd5-47b7-8e24-4da0a498cd9c",
   "metadata": {
    "scrolled": true
   },
   "outputs": [
    {
     "data": {
      "text/html": [
       "<div>\n",
       "<style scoped>\n",
       "    .dataframe tbody tr th:only-of-type {\n",
       "        vertical-align: middle;\n",
       "    }\n",
       "\n",
       "    .dataframe tbody tr th {\n",
       "        vertical-align: top;\n",
       "    }\n",
       "\n",
       "    .dataframe thead th {\n",
       "        text-align: right;\n",
       "    }\n",
       "</style>\n",
       "<table border=\"1\" class=\"dataframe\">\n",
       "  <thead>\n",
       "    <tr style=\"text-align: right;\">\n",
       "      <th></th>\n",
       "      <th>p_id</th>\n",
       "      <th>name</th>\n",
       "      <th>products</th>\n",
       "      <th>price</th>\n",
       "      <th>colour</th>\n",
       "      <th>brand</th>\n",
       "      <th>img</th>\n",
       "      <th>ratingCount</th>\n",
       "      <th>avg_rating</th>\n",
       "      <th>description</th>\n",
       "      <th>p_attributes</th>\n",
       "    </tr>\n",
       "  </thead>\n",
       "  <tbody>\n",
       "    <tr>\n",
       "      <th>0</th>\n",
       "      <td>17048614</td>\n",
       "      <td>Khushal K Women Black Ethnic Motifs Printed Ku...</td>\n",
       "      <td>Kurta, Palazzos, Dupatta</td>\n",
       "      <td>5099</td>\n",
       "      <td>Black</td>\n",
       "      <td>Khushal K</td>\n",
       "      <td>http://assets.myntassets.com/assets/images/170...</td>\n",
       "      <td>4522.0</td>\n",
       "      <td>4.418399</td>\n",
       "      <td>Black printed Kurta with Palazzos with dupatta...</td>\n",
       "      <td>{'Add-Ons': 'NA', 'Body Shape ID': '443,333,32...</td>\n",
       "    </tr>\n",
       "    <tr>\n",
       "      <th>1</th>\n",
       "      <td>16524740</td>\n",
       "      <td>InWeave Women Orange Solid Kurta with Palazzos...</td>\n",
       "      <td>Kurta, Palazzos, Floral Print Dupatta</td>\n",
       "      <td>5899</td>\n",
       "      <td>Orange</td>\n",
       "      <td>InWeave</td>\n",
       "      <td>http://assets.myntassets.com/assets/images/165...</td>\n",
       "      <td>1081.0</td>\n",
       "      <td>4.119334</td>\n",
       "      <td>Orange solid Kurta with Palazzos with dupatta&lt;...</td>\n",
       "      <td>{'Add-Ons': 'NA', 'Body Shape ID': '443,333,32...</td>\n",
       "    </tr>\n",
       "    <tr>\n",
       "      <th>2</th>\n",
       "      <td>16331376</td>\n",
       "      <td>Anubhutee Women Navy Blue Ethnic Motifs Embroi...</td>\n",
       "      <td>Kurta, Trousers, Dupatta</td>\n",
       "      <td>4899</td>\n",
       "      <td>Navy Blue</td>\n",
       "      <td>Anubhutee</td>\n",
       "      <td>http://assets.myntassets.com/assets/images/163...</td>\n",
       "      <td>1752.0</td>\n",
       "      <td>4.161530</td>\n",
       "      <td>Navy blue embroidered Kurta with Trousers with...</td>\n",
       "      <td>{'Add-Ons': 'NA', 'Body Shape ID': '333,424', ...</td>\n",
       "    </tr>\n",
       "    <tr>\n",
       "      <th>3</th>\n",
       "      <td>14709966</td>\n",
       "      <td>Nayo Women Red Floral Printed Kurta With Trous...</td>\n",
       "      <td>Kurta, Trouser, Dupatta</td>\n",
       "      <td>3699</td>\n",
       "      <td>Red</td>\n",
       "      <td>Nayo</td>\n",
       "      <td>http://assets.myntassets.com/assets/images/147...</td>\n",
       "      <td>4113.0</td>\n",
       "      <td>4.088986</td>\n",
       "      <td>Red printed kurta with trouser and dupatta&lt;br&gt;...</td>\n",
       "      <td>{'Add-Ons': 'NA', 'Body Shape ID': '333,424', ...</td>\n",
       "    </tr>\n",
       "    <tr>\n",
       "      <th>4</th>\n",
       "      <td>11056154</td>\n",
       "      <td>AHIKA Women Black &amp; Green Printed Straight Kurta</td>\n",
       "      <td>Kurta</td>\n",
       "      <td>1350</td>\n",
       "      <td>Black</td>\n",
       "      <td>AHIKA</td>\n",
       "      <td>http://assets.myntassets.com/assets/images/110...</td>\n",
       "      <td>21274.0</td>\n",
       "      <td>3.978377</td>\n",
       "      <td>Black and green printed straight kurta, has a ...</td>\n",
       "      <td>{'Body Shape ID': '424', 'Body or Garment Size...</td>\n",
       "    </tr>\n",
       "  </tbody>\n",
       "</table>\n",
       "</div>"
      ],
      "text/plain": [
       "       p_id                                               name  \\\n",
       "0  17048614  Khushal K Women Black Ethnic Motifs Printed Ku...   \n",
       "1  16524740  InWeave Women Orange Solid Kurta with Palazzos...   \n",
       "2  16331376  Anubhutee Women Navy Blue Ethnic Motifs Embroi...   \n",
       "3  14709966  Nayo Women Red Floral Printed Kurta With Trous...   \n",
       "4  11056154   AHIKA Women Black & Green Printed Straight Kurta   \n",
       "\n",
       "                                products  price     colour      brand  \\\n",
       "0               Kurta, Palazzos, Dupatta   5099      Black  Khushal K   \n",
       "1  Kurta, Palazzos, Floral Print Dupatta   5899     Orange    InWeave   \n",
       "2               Kurta, Trousers, Dupatta   4899  Navy Blue  Anubhutee   \n",
       "3                Kurta, Trouser, Dupatta   3699        Red       Nayo   \n",
       "4                                  Kurta   1350      Black      AHIKA   \n",
       "\n",
       "                                                 img  ratingCount  avg_rating  \\\n",
       "0  http://assets.myntassets.com/assets/images/170...       4522.0    4.418399   \n",
       "1  http://assets.myntassets.com/assets/images/165...       1081.0    4.119334   \n",
       "2  http://assets.myntassets.com/assets/images/163...       1752.0    4.161530   \n",
       "3  http://assets.myntassets.com/assets/images/147...       4113.0    4.088986   \n",
       "4  http://assets.myntassets.com/assets/images/110...      21274.0    3.978377   \n",
       "\n",
       "                                         description  \\\n",
       "0  Black printed Kurta with Palazzos with dupatta...   \n",
       "1  Orange solid Kurta with Palazzos with dupatta<...   \n",
       "2  Navy blue embroidered Kurta with Trousers with...   \n",
       "3  Red printed kurta with trouser and dupatta<br>...   \n",
       "4  Black and green printed straight kurta, has a ...   \n",
       "\n",
       "                                        p_attributes  \n",
       "0  {'Add-Ons': 'NA', 'Body Shape ID': '443,333,32...  \n",
       "1  {'Add-Ons': 'NA', 'Body Shape ID': '443,333,32...  \n",
       "2  {'Add-Ons': 'NA', 'Body Shape ID': '333,424', ...  \n",
       "3  {'Add-Ons': 'NA', 'Body Shape ID': '333,424', ...  \n",
       "4  {'Body Shape ID': '424', 'Body or Garment Size...  "
      ]
     },
     "execution_count": 3,
     "metadata": {},
     "output_type": "execute_result"
    }
   ],
   "source": [
    "data = pd.read_csv('Fashion Dataset v2.csv')\n",
    "data.head()"
   ]
  },
  {
   "cell_type": "markdown",
   "id": "b4fa7e51-1a74-4494-b1a5-3f4eae0bc828",
   "metadata": {},
   "source": [
    "## 2. Performing EDA on the data"
   ]
  },
  {
   "cell_type": "markdown",
   "id": "a8037fc1-76de-4d2e-a906-dcc495bbc986",
   "metadata": {},
   "source": [
    "Checking the number of rows"
   ]
  },
  {
   "cell_type": "code",
   "execution_count": 6,
   "id": "f7f5e43d-8603-4303-954e-fc6699b744d5",
   "metadata": {},
   "outputs": [
    {
     "data": {
      "text/plain": [
       "14214"
      ]
     },
     "execution_count": 6,
     "metadata": {},
     "output_type": "execute_result"
    }
   ],
   "source": [
    "len(data)"
   ]
  },
  {
   "cell_type": "markdown",
   "id": "ef246ede-72fa-415e-9634-9db3bf2859a6",
   "metadata": {},
   "source": [
    "Examining data types"
   ]
  },
  {
   "cell_type": "code",
   "execution_count": 8,
   "id": "d680bdba-fbdd-481e-8837-e0d32f0c1a58",
   "metadata": {},
   "outputs": [
    {
     "data": {
      "text/plain": [
       "p_id              int64\n",
       "name             object\n",
       "products         object\n",
       "price             int64\n",
       "colour           object\n",
       "brand            object\n",
       "img              object\n",
       "ratingCount     float64\n",
       "avg_rating      float64\n",
       "description      object\n",
       "p_attributes     object\n",
       "dtype: object"
      ]
     },
     "execution_count": 8,
     "metadata": {},
     "output_type": "execute_result"
    }
   ],
   "source": [
    "data.dtypes"
   ]
  },
  {
   "cell_type": "markdown",
   "id": "362368fb-4c35-4212-ab0b-85161cf8f9e5",
   "metadata": {},
   "source": [
    "**Checking for the number of unique values**"
   ]
  },
  {
   "cell_type": "code",
   "execution_count": 10,
   "id": "73b4e2e9-1309-409c-9a91-8dd8439a9d22",
   "metadata": {},
   "outputs": [
    {
     "data": {
      "text/plain": [
       "p_id            14214\n",
       "name            13873\n",
       "products          910\n",
       "price            1209\n",
       "colour             50\n",
       "brand            1022\n",
       "img             14214\n",
       "ratingCount       829\n",
       "avg_rating       2367\n",
       "description     14181\n",
       "p_attributes    13089\n",
       "dtype: int64"
      ]
     },
     "execution_count": 10,
     "metadata": {},
     "output_type": "execute_result"
    }
   ],
   "source": [
    "data.nunique()"
   ]
  },
  {
   "cell_type": "markdown",
   "id": "afc8ab64-2ea2-487c-821f-825c422c0af9",
   "metadata": {},
   "source": [
    "**Checking data for null values**"
   ]
  },
  {
   "cell_type": "code",
   "execution_count": 12,
   "id": "2228f30d-71a5-4579-a034-0f60364063d8",
   "metadata": {},
   "outputs": [
    {
     "data": {
      "text/plain": [
       "p_id               0\n",
       "name               0\n",
       "products           0\n",
       "price              0\n",
       "colour             0\n",
       "brand              0\n",
       "img                0\n",
       "ratingCount     7684\n",
       "avg_rating      7684\n",
       "description        0\n",
       "p_attributes       0\n",
       "dtype: int64"
      ]
     },
     "execution_count": 12,
     "metadata": {},
     "output_type": "execute_result"
    }
   ],
   "source": [
    "data.isna().sum()"
   ]
  },
  {
   "cell_type": "markdown",
   "id": "6fdeb29f-2fe3-4c89-9137-29bf2a5c4b57",
   "metadata": {},
   "source": [
    "Fixing the 'ratingCount' and 'avg_rating' columns.\n",
    "\n",
    "The rating is probably null because these could be new products and no one has rated them yet."
   ]
  },
  {
   "cell_type": "code",
   "execution_count": 14,
   "id": "f3b641ae-b472-4152-8396-f803bcdf9f9c",
   "metadata": {},
   "outputs": [
    {
     "data": {
      "text/plain": [
       "p_id            0\n",
       "name            0\n",
       "products        0\n",
       "price           0\n",
       "colour          0\n",
       "brand           0\n",
       "img             0\n",
       "ratingCount     0\n",
       "avg_rating      0\n",
       "description     0\n",
       "p_attributes    0\n",
       "dtype: int64"
      ]
     },
     "execution_count": 14,
     "metadata": {},
     "output_type": "execute_result"
    }
   ],
   "source": [
    "data.loc[data['ratingCount'].isna(), 'ratingCount'] = 0\n",
    "data.loc[data['avg_rating'].isna(), 'avg_rating'] = 0\n",
    "data.isna().sum()"
   ]
  },
  {
   "cell_type": "markdown",
   "id": "ba1b5b65-56c7-4a47-933b-ff6ba2f71c50",
   "metadata": {},
   "source": [
    "Examining data types"
   ]
  },
  {
   "cell_type": "code",
   "execution_count": 16,
   "id": "4ce27e22-08a3-42cc-bebc-7086ee7e4071",
   "metadata": {},
   "outputs": [
    {
     "data": {
      "text/plain": [
       "p_id              int64\n",
       "name             object\n",
       "products         object\n",
       "price             int64\n",
       "colour           object\n",
       "brand            object\n",
       "img              object\n",
       "ratingCount     float64\n",
       "avg_rating      float64\n",
       "description      object\n",
       "p_attributes     object\n",
       "dtype: object"
      ]
     },
     "execution_count": 16,
     "metadata": {},
     "output_type": "execute_result"
    }
   ],
   "source": [
    "data.dtypes"
   ]
  },
  {
   "cell_type": "code",
   "execution_count": 17,
   "id": "874a7cdd-0741-4ef3-9c85-8cbfd17ed526",
   "metadata": {},
   "outputs": [],
   "source": [
    "data = data.convert_dtypes()"
   ]
  },
  {
   "cell_type": "code",
   "execution_count": 18,
   "id": "040ef715-5732-42b9-bcad-3a275830ddf9",
   "metadata": {},
   "outputs": [
    {
     "data": {
      "text/plain": [
       "p_id                     Int64\n",
       "name            string[python]\n",
       "products        string[python]\n",
       "price                    Int64\n",
       "colour          string[python]\n",
       "brand           string[python]\n",
       "img             string[python]\n",
       "ratingCount              Int64\n",
       "avg_rating             Float64\n",
       "description     string[python]\n",
       "p_attributes    string[python]\n",
       "dtype: object"
      ]
     },
     "execution_count": 18,
     "metadata": {},
     "output_type": "execute_result"
    }
   ],
   "source": [
    "data.dtypes"
   ]
  },
  {
   "cell_type": "markdown",
   "id": "752cb3c6-3c8e-4e02-86dc-bd1dd8a7afac",
   "metadata": {},
   "source": [
    "EDA is now complete"
   ]
  },
  {
   "cell_type": "code",
   "execution_count": null,
   "id": "5872519b-fca4-437d-9c6e-53a7988bc2b2",
   "metadata": {},
   "outputs": [],
   "source": []
  },
  {
   "cell_type": "markdown",
   "id": "ff5ad1c9-39bd-4e07-b15c-ee6469171aa9",
   "metadata": {},
   "source": [
    "## 3. Setting up ChromaDB"
   ]
  },
  {
   "cell_type": "code",
   "execution_count": 21,
   "id": "f4d1ad19-591b-403f-97e6-43341bb693de",
   "metadata": {},
   "outputs": [],
   "source": [
    "# Set the API key\n",
    "filepath = \"../\"\n",
    "\n",
    "with open(filepath + \"OPENAI_API_Key.txt\", \"r\") as f:\n",
    "  openai.api_key = ''.join(f.readlines())"
   ]
  },
  {
   "cell_type": "code",
   "execution_count": 22,
   "id": "838f7339-20c9-4f01-9998-e1668bb2f2a2",
   "metadata": {},
   "outputs": [],
   "source": [
    "# Define the path where chroma collections will be stored\n",
    "\n",
    "chroma_data_path = 'chromadb_data'"
   ]
  },
  {
   "cell_type": "code",
   "execution_count": 23,
   "id": "1ff2983e-1226-42b7-af2e-a59f016f8430",
   "metadata": {},
   "outputs": [],
   "source": [
    "# Call PersistentClient()\n",
    "client = chromadb.PersistentClient(path=chroma_data_path)"
   ]
  },
  {
   "cell_type": "code",
   "execution_count": 24,
   "id": "54097ea7-0b94-44e3-8361-198ab6172204",
   "metadata": {},
   "outputs": [],
   "source": [
    "# Set up the embedding function using the OpenAI embedding model\n",
    "model = SentenceTransformer('all-MiniLM-L6-v2')"
   ]
  },
  {
   "cell_type": "code",
   "execution_count": 25,
   "id": "a8b2fde9-2f09-4e3f-95f4-8113646bf35f",
   "metadata": {},
   "outputs": [],
   "source": [
    "# Initialise a collection in chroma and pass the embedding_function to it so that it used OpenAI embeddings to embed the documents\n",
    "\n",
    "#fashion_coll = client.get_or_create_collection(name='myntra_fashion_data', embedding_function=embedding_function)\n",
    "client.delete_collection(name='myntra_fashion_data')\n",
    "fashion_coll = client.get_or_create_collection(name='myntra_fashion_data')"
   ]
  },
  {
   "cell_type": "markdown",
   "id": "ce2f20e8-2f3e-4780-8fce-310e4a282210",
   "metadata": {},
   "source": [
    "#### Creating the collection"
   ]
  },
  {
   "cell_type": "markdown",
   "id": "f3bfb558-08c6-4207-a566-d5b164001111",
   "metadata": {},
   "source": [
    "Combining attributes **color**, **brand**, **price** and **rating** with metadata so that a metadata search can be performed on these attributes"
   ]
  },
  {
   "cell_type": "code",
   "execution_count": 28,
   "id": "5d6a122f-1c9a-4e91-af1d-258e1a807059",
   "metadata": {},
   "outputs": [],
   "source": [
    "def combine_metadatas(row):\n",
    "    metadata_dict = ast.literal_eval(row['p_attributes'].lower())\n",
    "    metadata_dict.update({'color' : row['colour'].lower(), \n",
    "                          'brand' : row['brand'].lower(), \n",
    "                          'price' : row['price'], \n",
    "                          'ratingCount' : row['ratingCount'], \n",
    "                          'avg_rating' : row['avg_rating'], \n",
    "                          'img' : row['img'] })\n",
    "    return metadata_dict\n",
    "\n",
    "\n",
    "data['new_metadatas'] = data.apply(combine_metadatas, axis=1)\n",
    "metadata_list = data['new_metadatas'].tolist()\n"
   ]
  },
  {
   "cell_type": "markdown",
   "id": "28dde705-9b0f-4abf-ae6c-9c54628ab245",
   "metadata": {},
   "source": [
    "Also adding metadata as text to the description to aid in semantic search"
   ]
  },
  {
   "cell_type": "code",
   "execution_count": 30,
   "id": "2b6ab0b2-6a58-47de-8423-ec807aed0f16",
   "metadata": {},
   "outputs": [],
   "source": [
    "def construct_documents(row):\n",
    "    doc = f\"name {row['name'].lower()} description {row['description'].lower()} product {row['products']} description {\" \".join(f\"{k} = {v} \\n\" for k,v in row['new_metadatas'].items())}\"\n",
    "    return doc\n",
    "\n",
    "documents_list = data.apply(construct_documents, axis=1).tolist()\n",
    "ids = data['p_id'].apply(lambda id:str(id)).tolist()"
   ]
  },
  {
   "cell_type": "markdown",
   "id": "dd6a0f35-8ba0-4876-8f23-d3f3b4872c50",
   "metadata": {},
   "source": [
    "Creating the _fashion_coll_ collection which is our main collection"
   ]
  },
  {
   "cell_type": "code",
   "execution_count": 32,
   "id": "a51abc3a-737d-4839-8744-d37185ac87ac",
   "metadata": {},
   "outputs": [],
   "source": [
    "fashion_coll.upsert(\n",
    "    documents= documents_list,\n",
    "    ids = ids,\n",
    "    metadatas = metadata_list\n",
    ")"
   ]
  },
  {
   "cell_type": "markdown",
   "id": "3a475173-a42e-4848-8acc-674ccb8b6d4b",
   "metadata": {},
   "source": [
    "## 4. Querying the database"
   ]
  },
  {
   "cell_type": "markdown",
   "id": "db8b6eae-2103-40b2-9da3-8526d5c8b7a1",
   "metadata": {},
   "source": [
    "#### Fetch Query Parameters from OpenAI\n",
    "\n",
    "Here the parameters **rating**, **price**, **brand** and **color** are extracted out of user query. \n",
    "\n",
    "The response will be used in querying the database in the _where_ clause so that the results are accurate."
   ]
  },
  {
   "cell_type": "code",
   "execution_count": 35,
   "id": "13b206c5-2738-4a69-b02f-2d1c6fb63d45",
   "metadata": {},
   "outputs": [
    {
     "name": "stdout",
     "output_type": "stream",
     "text": [
      "{'$and': [{'color': 'black'}, {'brand': 'xyz'}]}\n",
      "{'$and': [{'color': 'red'}, {'price': {'$lt': 1000}}, {'avg_rating': {'$gt': 4}}, {'brand': 'rudra bazaar'}]}\n"
     ]
    }
   ],
   "source": [
    "def parse_user_query(user_query):\n",
    "    prompt = f\"\"\"\n",
    "You are a helpful assistant that converts user queries into filters for a product database.\n",
    "Given the following user query, extract the conditions and format them as a JSON object for use as a \"where\" clause in ChromaDB.\n",
    "\n",
    "The metadata fields are:\n",
    "- color: string (e.g., \"red\", \"blue\")\n",
    "- price: float (e.g., {{\"$lt\": 15}} for \"under $15\", {{\"$lt\": 15}} for \"above $15\")\n",
    "- brand: string (e.g., \"XYZ\" for \"brand XYZ\", \"Roly Poly\" for \"from brand Roly Poly\", \"House of Pataudi\" for \"by House of Pataudi\"  )\n",
    "- avg_rating: float (e.g., {{\"$gt\": 4}} for \"rating above 4 stars\", {{\"$lt\": 4}} for \"user rating below 4 stars\"), {{\"$lt\": 3}} for \"average rating below 3\") , {{\"$lt\": 3}} for \"average below 4 stars\")\n",
    "\n",
    "####\n",
    "User Query: {user_query}\n",
    "####\n",
    "\n",
    "Strictly return the \"content\" as a JSON string without the special characters as prefix and suffix.\n",
    "Don't add any attributes other than \"color\", \"price\", \"brand\", \"rating\".\n",
    "This json will be used for \"where\" clause in chromadb\n",
    "None of the attributes are mandatory. If you cannot find a value then don't include the attribute in the response.\n",
    "\n",
    "If you find more than one attributes in the User Query, surround the JSON with an \"$and [  ]\"\n",
    "Example: \"$and\": [  {{'color': 'black'}}, {{'price': {{'$lt': 1000}} }}, {{ 'avg_rating': {{'$gt': 4}} }}    ]\n",
    "\n",
    "\"\"\"\n",
    "\n",
    "    # Make the API call\n",
    "    try:\n",
    "        response = openai.chat.completions.create(\n",
    "            model=\"gpt-4o-mini\",\n",
    "            messages=[{\"role\": \"system\", \"content\": \"You are a helpful assistant.\"},\n",
    "                      {\"role\": \"user\", \"content\": prompt}]\n",
    "        )\n",
    "\n",
    "        response = response.choices[0].message.content\n",
    "        return json.loads(response.lower())\n",
    "    except:\n",
    "        return {}\n",
    "\n",
    "# Example user query\n",
    "user_query = 'Please show me black printed kurtas by Brand XYZ'\n",
    "where_clause = parse_user_query(user_query)\n",
    "print(where_clause)\n",
    "\n",
    "user_query = 'Please show me red kurtas with rating of atleast 4 and priced under 1000 by brand Rudra Bazaar'\n",
    "where_clause = parse_user_query(user_query)\n",
    "print(where_clause)\n"
   ]
  },
  {
   "cell_type": "markdown",
   "id": "063a46ca-5b43-4d31-b98d-e83d3ac7f36b",
   "metadata": {},
   "source": [
    "#### Testing the query"
   ]
  },
  {
   "cell_type": "code",
   "execution_count": 37,
   "id": "ab50c6e5-9e82-4794-bafc-4e0b8df87aee",
   "metadata": {},
   "outputs": [
    {
     "name": "stdout",
     "output_type": "stream",
     "text": [
      "{'$and': [{'color': 'black'}, {'price': {'$lt': 5000}}, {'avg_rating': {'$gt': 4}}, {'brand': 'kalini'}]}\n",
      "{'ids': [['17035744', '16748456', '17407676', '12754022', '17482890', '17241826']], 'embeddings': None, 'documents': [['name kalini black & golden woven design saree description <b> design details </b> <ul> <li> black and gold-toned saree </li> <li> geometric woven design saree with woven design border </li> </ul> <br> the saree comes with an unstitched blouse piece<br>the blouse worn by the model might be for modelling purpose only. check the image of the blouse piece to understand how the actual blouse piece looks like.<p>dryclean</p>length: 5.5 metres plus 0.8 metre blouse piece <br> width: 1.06 metres (approx.) product Saree description blouse = blouse piece \\n blouse fabric = pure silk \\n border = woven design \\n care for me = na \\n multipack set = na \\n occasion = festive \\n ornamentation = na \\n pattern = woven design \\n print or pattern type = geometric \\n saree fabric = pure silk \\n sustainable = regular \\n trends = celebrity saree \\n type = na \\n wash care = dry clean \\n wedding = bride & wedding squad \\n color = black \\n brand = kalini \\n price = 3699 \\n ratingCount = 23 \\n avg_rating = 4.434782609 \\n img = http://assets.myntassets.com/assets/images/17035744/2022/2/18/45753fab-ac72-400d-91df-d5f0fe8a7d111645165007221-KALINI-Women-Sarees-2461645165005794-1.jpg \\n', 'name kalini black & off white pure cotton printed saree description <b> design details </b> <ul> <li> black and off white saree </li> <li> geometric woven design saree with solid border </li> </ul> <br> the saree comes with an unstitched blouse piece<br>the blouse worn by the model might be for modelling purpose only. check the image of the blouse piece to understand how the actual blouse piece looks like.length: 5.5 metres plus 0.8 metre blouse piece <br> width: 1.06 metres (approx.)pure cotton<br>dryclean product Saree description blouse = blouse piece \\n blouse fabric = pure cotton \\n border = solid \\n care for me = na \\n multipack set = na \\n occasion = daily \\n ornamentation = na \\n pattern = woven design \\n print or pattern type = geometric \\n saree fabric = pure cotton \\n sustainable = regular \\n trends = na \\n type = na \\n wash care = dry clean \\n color = black \\n brand = kalini \\n price = 3265 \\n ratingCount = 47 \\n avg_rating = 4.468085106 \\n img = http://assets.myntassets.com/assets/images/16748456/2022/2/7/4dab8118-1cd1-4ff2-94b8-2969599c4eca1644215462540-KALINI-Women-Sarees-3681644215461834-1.jpg \\n', 'name kalini black & beige silk blend bandhani saree description <b> design details </b> <ul> <li> black and beige bandhani saree </li> <li> geometric printed saree with printed border </li> </ul> <br> the saree comes with an unstitched blouse piece<br>the blouse worn by the model might be for modelling purpose only. check the image of the blouse piece to understand how the actual blouse piece looks like.length: 5.5 metres plus 0.8 metre blouse piece <br> width: 1.06 metres (approx.)saree fabric: silk blend<br>blouse fabric: silk blend<br>dry clean product Saree description blouse = blouse piece \\n blouse fabric = silk blend \\n border = printed \\n care for me = na \\n multipack set = na \\n occasion = traditional \\n ornamentation = na \\n pattern = printed \\n print or pattern type = bandhani \\n saree fabric = silk blend \\n sustainable = regular \\n trends = na \\n type = bandhani \\n wash care = dry clean \\n wedding = bride & wedding squad \\n color = black \\n brand = kalini \\n price = 2535 \\n ratingCount = 8 \\n avg_rating = 4.5 \\n img = http://assets.myntassets.com/assets/images/17407676/2022/3/5/a835ce7a-98a3-4bee-90c6-bf89876fbfb01646491731337KALINIWomenBlackSarees1.jpg \\n', 'name kalini black & red jute silk embroidered saree description <b>design details:</b><br>black and red embroidered saree and has a printed border<br>the model is wearing a stitched version of the blouse. but the saree comes with an unstitched blouse<br><b>ornamentation:</b><br>this is an art form in which mirrors of various shapes are fixed on to the fabric through embroidery.length: 5.5 metres plus 0.8 metre blouse piece<br>width: 1.06 metres (approx)saree fabric: jute silk<br>blouse fabric: jute silk<br>hand-wash product Saree description blouse = blouse piece \\n blouse fabric = jute silk \\n border = printed \\n occasion = festive \\n ornamentation = mirror work \\n pattern = embroidered \\n print or pattern type = embellished \\n saree fabric = jute silk \\n sustainable = regular \\n trends = na \\n type = na \\n wash care = hand wash \\n color = black \\n brand = kalini \\n price = 2653 \\n ratingCount = 814 \\n avg_rating = 4.055282555 \\n img = http://assets.myntassets.com/assets/images/12754022/2020/11/10/bebe2d45-7864-4503-a780-ffff31260cbf1605006205555-Kalini-Black--Red-Jute-Silk-Mirror-Embroidered-Saree-7941605-1.jpg \\n', \"name kalini black & gold-toned striped boat neck kurti description <ul> <li> black and gold-toned straight kurti </li> <li> striped </li> <li> boat neck,  three-quarter,  regular sleeves </li> <li> machine weave regular cotton blend </li> </ul>poly cotton<br>hand washthe model (height 5'8) is wearing a size s product Kurti description body or garment size = to-fit denotes body measurements in \\n care for me = na \\n design styling = regular \\n fabric = cotton blend \\n hemline = straight \\n neck = boat neck \\n number of pockets = na \\n occasion = daily \\n ornamentation = na \\n pattern = striped \\n print or pattern type = striped \\n shape = straight \\n sleeve length = three-quarter sleeves \\n sleeve styling = regular sleeves \\n slit detail = side slits \\n sustainable = regular \\n technique = na \\n wash care = hand wash \\n weave pattern = regular \\n weave type = machine weave \\n color = black \\n brand = kalini \\n price = 1599 \\n ratingCount = 12 \\n avg_rating = 4.583333333 \\n img = http://assets.myntassets.com/assets/images/17482890/2022/4/8/554120a9-4095-425f-883c-5ae958104c331649421157046-KALINI-Women-Kurtis-6481649421156558-1.jpg \\n\", \"name kalini women black geometric checked thread work straight kurta description <ul><li>colour: black</li><li>geometric</li><li>round neck</li><li>three-quarter, regular sleeves</li><li>straight shape with regular style</li><li>thread work detail</li><li>calf length with straight hem</li><li>machine weave regular cotton</li></ul>cotton<br>hand wash<br> the model (height 5'8) is wearing a size s product Kurta description body shape id = 424 \\n body or garment size = to-fit denotes body measurements in \\n care for me = na \\n colour family = indigo \\n design styling = regular \\n fabric = cotton \\n fabric 2 = na \\n fabric purity = pure \\n hemline = straight \\n length = calf length \\n main trend = na \\n neck = round neck \\n number of pockets = na \\n occasion = daily \\n ornamentation = thread work \\n pattern = checked \\n print or pattern type = geometric \\n shape = straight \\n sleeve length = three-quarter sleeves \\n sleeve styling = regular sleeves \\n slit detail = side slits \\n stitch = ready to wear \\n sustainable = regular \\n technique = na \\n wash care = hand wash \\n weave pattern = regular \\n weave type = machine weave \\n wedding = na \\n color = black \\n brand = kalini \\n price = 1499 \\n ratingCount = 390 \\n avg_rating = 4.228205128 \\n img = http://assets.myntassets.com/assets/images/17241826/2022/2/22/f32f7264-e676-45c8-85f9-3215aca7cb4d1645522478531KALINIWomenBlackCheckedThreadWorkQuirkyKurta1.jpg \\n\"]], 'uris': None, 'data': None, 'metadatas': [[{'avg_rating': 4.434782609, 'blouse': 'blouse piece', 'blouse fabric': 'pure silk', 'border': 'woven design', 'brand': 'kalini', 'care for me': 'na', 'color': 'black', 'img': 'http://assets.myntassets.com/assets/images/17035744/2022/2/18/45753fab-ac72-400d-91df-d5f0fe8a7d111645165007221-KALINI-Women-Sarees-2461645165005794-1.jpg', 'multipack set': 'na', 'occasion': 'festive', 'ornamentation': 'na', 'pattern': 'woven design', 'price': 3699, 'print or pattern type': 'geometric', 'ratingCount': 23, 'saree fabric': 'pure silk', 'sustainable': 'regular', 'trends': 'celebrity saree', 'type': 'na', 'wash care': 'dry clean', 'wedding': 'bride & wedding squad'}, {'avg_rating': 4.468085106, 'blouse': 'blouse piece', 'blouse fabric': 'pure cotton', 'border': 'solid', 'brand': 'kalini', 'care for me': 'na', 'color': 'black', 'img': 'http://assets.myntassets.com/assets/images/16748456/2022/2/7/4dab8118-1cd1-4ff2-94b8-2969599c4eca1644215462540-KALINI-Women-Sarees-3681644215461834-1.jpg', 'multipack set': 'na', 'occasion': 'daily', 'ornamentation': 'na', 'pattern': 'woven design', 'price': 3265, 'print or pattern type': 'geometric', 'ratingCount': 47, 'saree fabric': 'pure cotton', 'sustainable': 'regular', 'trends': 'na', 'type': 'na', 'wash care': 'dry clean'}, {'avg_rating': 4.5, 'blouse': 'blouse piece', 'blouse fabric': 'silk blend', 'border': 'printed', 'brand': 'kalini', 'care for me': 'na', 'color': 'black', 'img': 'http://assets.myntassets.com/assets/images/17407676/2022/3/5/a835ce7a-98a3-4bee-90c6-bf89876fbfb01646491731337KALINIWomenBlackSarees1.jpg', 'multipack set': 'na', 'occasion': 'traditional', 'ornamentation': 'na', 'pattern': 'printed', 'price': 2535, 'print or pattern type': 'bandhani', 'ratingCount': 8, 'saree fabric': 'silk blend', 'sustainable': 'regular', 'trends': 'na', 'type': 'bandhani', 'wash care': 'dry clean', 'wedding': 'bride & wedding squad'}, {'avg_rating': 4.055282555, 'blouse': 'blouse piece', 'blouse fabric': 'jute silk', 'border': 'printed', 'brand': 'kalini', 'color': 'black', 'img': 'http://assets.myntassets.com/assets/images/12754022/2020/11/10/bebe2d45-7864-4503-a780-ffff31260cbf1605006205555-Kalini-Black--Red-Jute-Silk-Mirror-Embroidered-Saree-7941605-1.jpg', 'occasion': 'festive', 'ornamentation': 'mirror work', 'pattern': 'embroidered', 'price': 2653, 'print or pattern type': 'embellished', 'ratingCount': 814, 'saree fabric': 'jute silk', 'sustainable': 'regular', 'trends': 'na', 'type': 'na', 'wash care': 'hand wash'}, {'avg_rating': 4.583333333, 'body or garment size': 'to-fit denotes body measurements in', 'brand': 'kalini', 'care for me': 'na', 'color': 'black', 'design styling': 'regular', 'fabric': 'cotton blend', 'hemline': 'straight', 'img': 'http://assets.myntassets.com/assets/images/17482890/2022/4/8/554120a9-4095-425f-883c-5ae958104c331649421157046-KALINI-Women-Kurtis-6481649421156558-1.jpg', 'neck': 'boat neck', 'number of pockets': 'na', 'occasion': 'daily', 'ornamentation': 'na', 'pattern': 'striped', 'price': 1599, 'print or pattern type': 'striped', 'ratingCount': 12, 'shape': 'straight', 'sleeve length': 'three-quarter sleeves', 'sleeve styling': 'regular sleeves', 'slit detail': 'side slits', 'sustainable': 'regular', 'technique': 'na', 'wash care': 'hand wash', 'weave pattern': 'regular', 'weave type': 'machine weave'}, {'avg_rating': 4.228205128, 'body or garment size': 'to-fit denotes body measurements in', 'body shape id': '424', 'brand': 'kalini', 'care for me': 'na', 'color': 'black', 'colour family': 'indigo', 'design styling': 'regular', 'fabric': 'cotton', 'fabric 2': 'na', 'fabric purity': 'pure', 'hemline': 'straight', 'img': 'http://assets.myntassets.com/assets/images/17241826/2022/2/22/f32f7264-e676-45c8-85f9-3215aca7cb4d1645522478531KALINIWomenBlackCheckedThreadWorkQuirkyKurta1.jpg', 'length': 'calf length', 'main trend': 'na', 'neck': 'round neck', 'number of pockets': 'na', 'occasion': 'daily', 'ornamentation': 'thread work', 'pattern': 'checked', 'price': 1499, 'print or pattern type': 'geometric', 'ratingCount': 390, 'shape': 'straight', 'sleeve length': 'three-quarter sleeves', 'sleeve styling': 'regular sleeves', 'slit detail': 'side slits', 'stitch': 'ready to wear', 'sustainable': 'regular', 'technique': 'na', 'wash care': 'hand wash', 'weave pattern': 'regular', 'weave type': 'machine weave', 'wedding': 'na'}]], 'distances': [[1.0679694414138794, 1.0978399515151978, 1.1327282190322876, 1.1357817649841309, 1.181969404220581, 1.3791313171386719]], 'included': [<IncludeEnum.distances: 'distances'>, <IncludeEnum.documents: 'documents'>, <IncludeEnum.metadatas: 'metadatas'>]}\n"
     ]
    }
   ],
   "source": [
    "user_query='Black Saree under 5000 rupees with rating of atleast 4 from brand Kalini'\n",
    "parsed_query = parse_user_query(user_query)\n",
    "print(parsed_query)\n",
    "query_embedding = model.encode(user_query.lower())\n",
    "results = fashion_coll.query(query_embeddings=[query_embedding], n_results=10, where=parsed_query, include=['documents', 'distances', 'metadatas'])\n",
    "print(results)\n"
   ]
  },
  {
   "cell_type": "markdown",
   "id": "e71015a1-3dd5-4b52-8a9b-7daa2e96fded",
   "metadata": {},
   "source": [
    "#### Create a dataset out of the results from the database"
   ]
  },
  {
   "cell_type": "code",
   "execution_count": 39,
   "id": "0b7a8eb7-6126-4a9f-a9d4-16abaee40a8d",
   "metadata": {
    "scrolled": true
   },
   "outputs": [
    {
     "data": {
      "text/html": [
       "<div>\n",
       "<style scoped>\n",
       "    .dataframe tbody tr th:only-of-type {\n",
       "        vertical-align: middle;\n",
       "    }\n",
       "\n",
       "    .dataframe tbody tr th {\n",
       "        vertical-align: top;\n",
       "    }\n",
       "\n",
       "    .dataframe thead th {\n",
       "        text-align: right;\n",
       "    }\n",
       "</style>\n",
       "<table border=\"1\" class=\"dataframe\">\n",
       "  <thead>\n",
       "    <tr style=\"text-align: right;\">\n",
       "      <th></th>\n",
       "      <th>IDs</th>\n",
       "      <th>Documents</th>\n",
       "      <th>Distances</th>\n",
       "      <th>Metadatas</th>\n",
       "    </tr>\n",
       "  </thead>\n",
       "  <tbody>\n",
       "    <tr>\n",
       "      <th>0</th>\n",
       "      <td>17035744</td>\n",
       "      <td>name kalini black &amp; golden woven design saree ...</td>\n",
       "      <td>1.067969</td>\n",
       "      <td>{'avg_rating': 4.434782609, 'blouse': 'blouse ...</td>\n",
       "    </tr>\n",
       "    <tr>\n",
       "      <th>1</th>\n",
       "      <td>16748456</td>\n",
       "      <td>name kalini black &amp; off white pure cotton prin...</td>\n",
       "      <td>1.097840</td>\n",
       "      <td>{'avg_rating': 4.468085106, 'blouse': 'blouse ...</td>\n",
       "    </tr>\n",
       "    <tr>\n",
       "      <th>2</th>\n",
       "      <td>17407676</td>\n",
       "      <td>name kalini black &amp; beige silk blend bandhani ...</td>\n",
       "      <td>1.132728</td>\n",
       "      <td>{'avg_rating': 4.5, 'blouse': 'blouse piece', ...</td>\n",
       "    </tr>\n",
       "    <tr>\n",
       "      <th>3</th>\n",
       "      <td>12754022</td>\n",
       "      <td>name kalini black &amp; red jute silk embroidered ...</td>\n",
       "      <td>1.135782</td>\n",
       "      <td>{'avg_rating': 4.055282555, 'blouse': 'blouse ...</td>\n",
       "    </tr>\n",
       "    <tr>\n",
       "      <th>4</th>\n",
       "      <td>17482890</td>\n",
       "      <td>name kalini black &amp; gold-toned striped boat ne...</td>\n",
       "      <td>1.181969</td>\n",
       "      <td>{'avg_rating': 4.583333333, 'body or garment s...</td>\n",
       "    </tr>\n",
       "    <tr>\n",
       "      <th>5</th>\n",
       "      <td>17241826</td>\n",
       "      <td>name kalini women black geometric checked thre...</td>\n",
       "      <td>1.379131</td>\n",
       "      <td>{'avg_rating': 4.228205128, 'body or garment s...</td>\n",
       "    </tr>\n",
       "  </tbody>\n",
       "</table>\n",
       "</div>"
      ],
      "text/plain": [
       "        IDs                                          Documents  Distances  \\\n",
       "0  17035744  name kalini black & golden woven design saree ...   1.067969   \n",
       "1  16748456  name kalini black & off white pure cotton prin...   1.097840   \n",
       "2  17407676  name kalini black & beige silk blend bandhani ...   1.132728   \n",
       "3  12754022  name kalini black & red jute silk embroidered ...   1.135782   \n",
       "4  17482890  name kalini black & gold-toned striped boat ne...   1.181969   \n",
       "5  17241826  name kalini women black geometric checked thre...   1.379131   \n",
       "\n",
       "                                           Metadatas  \n",
       "0  {'avg_rating': 4.434782609, 'blouse': 'blouse ...  \n",
       "1  {'avg_rating': 4.468085106, 'blouse': 'blouse ...  \n",
       "2  {'avg_rating': 4.5, 'blouse': 'blouse piece', ...  \n",
       "3  {'avg_rating': 4.055282555, 'blouse': 'blouse ...  \n",
       "4  {'avg_rating': 4.583333333, 'body or garment s...  \n",
       "5  {'avg_rating': 4.228205128, 'body or garment s...  "
      ]
     },
     "execution_count": 39,
     "metadata": {},
     "output_type": "execute_result"
    }
   ],
   "source": [
    "def create_result_dataset(results):\n",
    "    query_ids = []\n",
    "    query_docs = []\n",
    "    query_distances = []\n",
    "    query_metadatas = []\n",
    "    \n",
    "    for key, value in results.items():\n",
    "        if 'ids' in key:\n",
    "            query_ids.extend(value[0])\n",
    "        elif 'documents' in key:\n",
    "            query_docs.extend(value[0])\n",
    "        elif 'distances' in key:\n",
    "            query_distances.extend(value[0])\n",
    "        elif 'metadatas' in key:\n",
    "            query_metadatas.extend(value[0])\n",
    "    \n",
    "    return pd.DataFrame({\n",
    "        'IDs': query_ids,\n",
    "        'Documents': query_docs,\n",
    "        'Distances': query_distances,\n",
    "        'Metadatas': query_metadatas\n",
    "    })\n",
    "\n",
    "\n",
    "results_df = create_result_dataset(results)\n",
    "results_df"
   ]
  },
  {
   "cell_type": "markdown",
   "id": "6b14fa5c-3a86-4c69-94d3-1f88bbf496f6",
   "metadata": {},
   "source": [
    "#### Implementing Caching\n",
    "\n",
    "Create a new collection _cache_collection_ where the user queries and results will be cached for faster response"
   ]
  },
  {
   "cell_type": "code",
   "execution_count": 105,
   "id": "135c032e-17ac-46cb-aa41-92ede0653e38",
   "metadata": {},
   "outputs": [],
   "source": [
    "client.delete_collection(name='cache_collection')\n",
    "cache_collection = client.get_or_create_collection(name='cache_collection')\n",
    "threshold = 0.1"
   ]
  },
  {
   "cell_type": "markdown",
   "id": "0bafa08c-bb63-4f80-8341-f6da5d887995",
   "metadata": {},
   "source": [
    "**This is the main function which takes in the user query and returns top 10 results in a dataframe.**\n",
    "1. The user query is first searched in the cache.\n",
    "2. If the user query is not found in the cache with a distance of more then threshold, then the results are fetched from main collection. The results are stored back in the cache.\n",
    "3. If the user query is found in the cache with a distance of less than threshold, the results are returned from the cache collection."
   ]
  },
  {
   "cell_type": "code",
   "execution_count": 110,
   "id": "41fb7f2a-1a04-4193-9ae6-d0aa4f09a8e7",
   "metadata": {},
   "outputs": [],
   "source": [
    "def fetch_data(user_query):\n",
    "    ids = []\n",
    "    documents = []\n",
    "    distances = []\n",
    "    metadatas = []\n",
    "    results_df = pd.DataFrame()\n",
    "    \n",
    "    where_clause = parse_user_query(user_query)\n",
    "    query_embedding = model.encode(user_query.lower())\n",
    "\n",
    "    cache_results = cache_collection.query(\n",
    "        query_texts=user_query,\n",
    "        n_results=1\n",
    "    )\n",
    "\n",
    "    if cache_results['distances'][0] == [] or cache_results['distances'][0][0] > threshold:\n",
    "        results = fashion_coll.query(\n",
    "            query_embeddings=[query_embedding], \n",
    "            n_results=10, \n",
    "            where=where_clause, \n",
    "            include=['documents', 'distances', 'metadatas']\n",
    "        )\n",
    "        results_df = create_result_dataset(results)\n",
    "        \n",
    "        cache_collection.add(\n",
    "            documents=[user_query],\n",
    "            ids = [user_query],\n",
    "            metadatas = { k:str(v) for (k,v) in results_df.to_dict('list').items()}\n",
    "        )\n",
    "    elif cache_results['distances'][0][0] <= threshold:\n",
    "        print('Found in cache!')\n",
    "        cache_result_dict = cache_results['metadatas'][0][0]\n",
    "        results_df = pd.DataFrame({k:ast.literal_eval(v) for (k,v) in cache_result_dict.items()})\n",
    "        \n",
    "    return results_df\n",
    "    "
   ]
  },
  {
   "cell_type": "markdown",
   "id": "ac3601ce-aead-4d28-92ae-d10f7418b6fa",
   "metadata": {},
   "source": [
    "Testing the cache implementation"
   ]
  },
  {
   "cell_type": "code",
   "execution_count": 45,
   "id": "d640ea48-abaf-4118-b5f3-93f320a5c14e",
   "metadata": {},
   "outputs": [
    {
     "name": "stdout",
     "output_type": "stream",
     "text": [
      "First call\n"
     ]
    },
    {
     "data": {
      "text/html": [
       "<div>\n",
       "<style scoped>\n",
       "    .dataframe tbody tr th:only-of-type {\n",
       "        vertical-align: middle;\n",
       "    }\n",
       "\n",
       "    .dataframe tbody tr th {\n",
       "        vertical-align: top;\n",
       "    }\n",
       "\n",
       "    .dataframe thead th {\n",
       "        text-align: right;\n",
       "    }\n",
       "</style>\n",
       "<table border=\"1\" class=\"dataframe\">\n",
       "  <thead>\n",
       "    <tr style=\"text-align: right;\">\n",
       "      <th></th>\n",
       "      <th>IDs</th>\n",
       "      <th>Documents</th>\n",
       "      <th>Distances</th>\n",
       "      <th>Metadatas</th>\n",
       "    </tr>\n",
       "  </thead>\n",
       "  <tbody>\n",
       "    <tr>\n",
       "      <th>0</th>\n",
       "      <td>4423979</td>\n",
       "      <td>name dressberry women black &amp; grey checked pul...</td>\n",
       "      <td>1.313968</td>\n",
       "      <td>{'avg_rating': 4.489028213, 'body or garment s...</td>\n",
       "    </tr>\n",
       "    <tr>\n",
       "      <th>1</th>\n",
       "      <td>15821466</td>\n",
       "      <td>name defacto women black acrylic pullover with...</td>\n",
       "      <td>1.357816</td>\n",
       "      <td>{'avg_rating': 5.0, 'body or garment size': 'g...</td>\n",
       "    </tr>\n",
       "  </tbody>\n",
       "</table>\n",
       "</div>"
      ],
      "text/plain": [
       "        IDs                                          Documents  Distances  \\\n",
       "0   4423979  name dressberry women black & grey checked pul...   1.313968   \n",
       "1  15821466  name defacto women black acrylic pullover with...   1.357816   \n",
       "\n",
       "                                           Metadatas  \n",
       "0  {'avg_rating': 4.489028213, 'body or garment s...  \n",
       "1  {'avg_rating': 5.0, 'body or garment size': 'g...  "
      ]
     },
     "execution_count": 45,
     "metadata": {},
     "output_type": "execute_result"
    }
   ],
   "source": [
    "print('First call')\n",
    "fetch_data('Find black pullovers with user rating above 4').head(2)"
   ]
  },
  {
   "cell_type": "code",
   "execution_count": 46,
   "id": "ba12e4df-fa0a-428e-9800-1521561f88d8",
   "metadata": {},
   "outputs": [
    {
     "name": "stdout",
     "output_type": "stream",
     "text": [
      "Similar call again\n",
      "Found in cache!\n"
     ]
    },
    {
     "data": {
      "text/html": [
       "<div>\n",
       "<style scoped>\n",
       "    .dataframe tbody tr th:only-of-type {\n",
       "        vertical-align: middle;\n",
       "    }\n",
       "\n",
       "    .dataframe tbody tr th {\n",
       "        vertical-align: top;\n",
       "    }\n",
       "\n",
       "    .dataframe thead th {\n",
       "        text-align: right;\n",
       "    }\n",
       "</style>\n",
       "<table border=\"1\" class=\"dataframe\">\n",
       "  <thead>\n",
       "    <tr style=\"text-align: right;\">\n",
       "      <th></th>\n",
       "      <th>Distances</th>\n",
       "      <th>Documents</th>\n",
       "      <th>IDs</th>\n",
       "      <th>Metadatas</th>\n",
       "    </tr>\n",
       "  </thead>\n",
       "  <tbody>\n",
       "    <tr>\n",
       "      <th>0</th>\n",
       "      <td>1.313968</td>\n",
       "      <td>name dressberry women black &amp; grey checked pul...</td>\n",
       "      <td>4423979</td>\n",
       "      <td>{'avg_rating': 4.489028213, 'body or garment s...</td>\n",
       "    </tr>\n",
       "    <tr>\n",
       "      <th>1</th>\n",
       "      <td>1.357816</td>\n",
       "      <td>name defacto women black acrylic pullover with...</td>\n",
       "      <td>15821466</td>\n",
       "      <td>{'avg_rating': 5.0, 'body or garment size': 'g...</td>\n",
       "    </tr>\n",
       "  </tbody>\n",
       "</table>\n",
       "</div>"
      ],
      "text/plain": [
       "   Distances                                          Documents       IDs  \\\n",
       "0   1.313968  name dressberry women black & grey checked pul...   4423979   \n",
       "1   1.357816  name defacto women black acrylic pullover with...  15821466   \n",
       "\n",
       "                                           Metadatas  \n",
       "0  {'avg_rating': 4.489028213, 'body or garment s...  \n",
       "1  {'avg_rating': 5.0, 'body or garment size': 'g...  "
      ]
     },
     "execution_count": 46,
     "metadata": {},
     "output_type": "execute_result"
    }
   ],
   "source": [
    "print('Similar call again')\n",
    "fetch_data('Find black pullovers having user rating atleast 4').head(2)"
   ]
  },
  {
   "cell_type": "markdown",
   "id": "14e025b9-caf3-4c23-a9e1-68daa5b98c89",
   "metadata": {},
   "source": [
    "## 5. Cross Encoding"
   ]
  },
  {
   "cell_type": "code",
   "execution_count": 48,
   "id": "9da72f56-fc05-442e-b7b3-889e12517172",
   "metadata": {},
   "outputs": [],
   "source": [
    "cross_encoder = CrossEncoder('cross-encoder/ms-marco-MiniLM-L-6-v2')"
   ]
  },
  {
   "cell_type": "code",
   "execution_count": 49,
   "id": "bbdc9ca7-b6b8-4ce7-b62e-34ee146dbf5b",
   "metadata": {},
   "outputs": [
    {
     "data": {
      "text/plain": [
       "array([  3.8467638, -11.252879 ], dtype=float32)"
      ]
     },
     "execution_count": 49,
     "metadata": {},
     "output_type": "execute_result"
    }
   ],
   "source": [
    "# Test the cross encoder model\n",
    "\n",
    "scores = cross_encoder.predict([['Does the insurance cover diabetic patients?', 'The insurance policy covers some pre-existing conditions including diabetes, heart diseases, etc. The policy does not howev'],\n",
    "                                ['Does the insurance cover diabetic patients?', 'The premium rates for various age groups are given as follows. Age group (<18 years): Premium rate']])\n",
    "\n",
    "scores"
   ]
  },
  {
   "cell_type": "markdown",
   "id": "8e17c1ec-af2d-401d-9660-de03c3f6ce62",
   "metadata": {},
   "source": [
    "This function performs the cross validation for the user query against each of the elements returned in the result"
   ]
  },
  {
   "cell_type": "code",
   "execution_count": 51,
   "id": "aa088042-9bf7-478c-9f73-4f97ba6d1a22",
   "metadata": {},
   "outputs": [],
   "source": [
    "def perform_cross_validation(user_query, results_df):\n",
    "    cross_inputs = [[user_query, response] for response in results_df['Documents']]\n",
    "    cross_rerank_scores = cross_encoder.predict(cross_inputs)\n",
    "    results_df['Reranked_scores'] = cross_rerank_scores\n",
    "    return results_df"
   ]
  },
  {
   "cell_type": "markdown",
   "id": "638a50d5-1fab-43b2-a002-88a05ec262fd",
   "metadata": {},
   "source": [
    "Testing the cross validation."
   ]
  },
  {
   "cell_type": "code",
   "execution_count": 53,
   "id": "11c59016-3a29-467c-9b59-1b7187df3693",
   "metadata": {},
   "outputs": [
    {
     "data": {
      "text/html": [
       "<div>\n",
       "<style scoped>\n",
       "    .dataframe tbody tr th:only-of-type {\n",
       "        vertical-align: middle;\n",
       "    }\n",
       "\n",
       "    .dataframe tbody tr th {\n",
       "        vertical-align: top;\n",
       "    }\n",
       "\n",
       "    .dataframe thead th {\n",
       "        text-align: right;\n",
       "    }\n",
       "</style>\n",
       "<table border=\"1\" class=\"dataframe\">\n",
       "  <thead>\n",
       "    <tr style=\"text-align: right;\">\n",
       "      <th></th>\n",
       "      <th>IDs</th>\n",
       "      <th>Documents</th>\n",
       "      <th>Distances</th>\n",
       "      <th>Metadatas</th>\n",
       "      <th>Reranked_scores</th>\n",
       "    </tr>\n",
       "  </thead>\n",
       "  <tbody>\n",
       "    <tr>\n",
       "      <th>0</th>\n",
       "      <td>17035744</td>\n",
       "      <td>name kalini black &amp; golden woven design saree ...</td>\n",
       "      <td>1.067969</td>\n",
       "      <td>{'avg_rating': 4.434782609, 'blouse': 'blouse ...</td>\n",
       "      <td>-0.738804</td>\n",
       "    </tr>\n",
       "    <tr>\n",
       "      <th>1</th>\n",
       "      <td>16748456</td>\n",
       "      <td>name kalini black &amp; off white pure cotton prin...</td>\n",
       "      <td>1.097840</td>\n",
       "      <td>{'avg_rating': 4.468085106, 'blouse': 'blouse ...</td>\n",
       "      <td>-1.018327</td>\n",
       "    </tr>\n",
       "    <tr>\n",
       "      <th>2</th>\n",
       "      <td>17407676</td>\n",
       "      <td>name kalini black &amp; beige silk blend bandhani ...</td>\n",
       "      <td>1.132728</td>\n",
       "      <td>{'avg_rating': 4.5, 'blouse': 'blouse piece', ...</td>\n",
       "      <td>-1.950579</td>\n",
       "    </tr>\n",
       "    <tr>\n",
       "      <th>3</th>\n",
       "      <td>12754022</td>\n",
       "      <td>name kalini black &amp; red jute silk embroidered ...</td>\n",
       "      <td>1.135782</td>\n",
       "      <td>{'avg_rating': 4.055282555, 'blouse': 'blouse ...</td>\n",
       "      <td>-1.321804</td>\n",
       "    </tr>\n",
       "    <tr>\n",
       "      <th>4</th>\n",
       "      <td>17482890</td>\n",
       "      <td>name kalini black &amp; gold-toned striped boat ne...</td>\n",
       "      <td>1.181969</td>\n",
       "      <td>{'avg_rating': 4.583333333, 'body or garment s...</td>\n",
       "      <td>-4.760744</td>\n",
       "    </tr>\n",
       "    <tr>\n",
       "      <th>5</th>\n",
       "      <td>17241826</td>\n",
       "      <td>name kalini women black geometric checked thre...</td>\n",
       "      <td>1.379131</td>\n",
       "      <td>{'avg_rating': 4.228205128, 'body or garment s...</td>\n",
       "      <td>-2.192584</td>\n",
       "    </tr>\n",
       "  </tbody>\n",
       "</table>\n",
       "</div>"
      ],
      "text/plain": [
       "        IDs                                          Documents  Distances  \\\n",
       "0  17035744  name kalini black & golden woven design saree ...   1.067969   \n",
       "1  16748456  name kalini black & off white pure cotton prin...   1.097840   \n",
       "2  17407676  name kalini black & beige silk blend bandhani ...   1.132728   \n",
       "3  12754022  name kalini black & red jute silk embroidered ...   1.135782   \n",
       "4  17482890  name kalini black & gold-toned striped boat ne...   1.181969   \n",
       "5  17241826  name kalini women black geometric checked thre...   1.379131   \n",
       "\n",
       "                                           Metadatas  Reranked_scores  \n",
       "0  {'avg_rating': 4.434782609, 'blouse': 'blouse ...        -0.738804  \n",
       "1  {'avg_rating': 4.468085106, 'blouse': 'blouse ...        -1.018327  \n",
       "2  {'avg_rating': 4.5, 'blouse': 'blouse piece', ...        -1.950579  \n",
       "3  {'avg_rating': 4.055282555, 'blouse': 'blouse ...        -1.321804  \n",
       "4  {'avg_rating': 4.583333333, 'body or garment s...        -4.760744  \n",
       "5  {'avg_rating': 4.228205128, 'body or garment s...        -2.192584  "
      ]
     },
     "execution_count": 53,
     "metadata": {},
     "output_type": "execute_result"
    }
   ],
   "source": [
    "perform_cross_validation(user_query, results_df)"
   ]
  },
  {
   "cell_type": "code",
   "execution_count": 54,
   "id": "3d485e57-c77d-425a-94ca-fdd84cb3216a",
   "metadata": {},
   "outputs": [
    {
     "data": {
      "text/html": [
       "<div>\n",
       "<style scoped>\n",
       "    .dataframe tbody tr th:only-of-type {\n",
       "        vertical-align: middle;\n",
       "    }\n",
       "\n",
       "    .dataframe tbody tr th {\n",
       "        vertical-align: top;\n",
       "    }\n",
       "\n",
       "    .dataframe thead th {\n",
       "        text-align: right;\n",
       "    }\n",
       "</style>\n",
       "<table border=\"1\" class=\"dataframe\">\n",
       "  <thead>\n",
       "    <tr style=\"text-align: right;\">\n",
       "      <th></th>\n",
       "      <th>IDs</th>\n",
       "      <th>Documents</th>\n",
       "      <th>Distances</th>\n",
       "      <th>Metadatas</th>\n",
       "      <th>Reranked_scores</th>\n",
       "    </tr>\n",
       "  </thead>\n",
       "  <tbody>\n",
       "    <tr>\n",
       "      <th>0</th>\n",
       "      <td>17035744</td>\n",
       "      <td>name kalini black &amp; golden woven design saree ...</td>\n",
       "      <td>1.067969</td>\n",
       "      <td>{'avg_rating': 4.434782609, 'blouse': 'blouse ...</td>\n",
       "      <td>-0.738804</td>\n",
       "    </tr>\n",
       "    <tr>\n",
       "      <th>1</th>\n",
       "      <td>16748456</td>\n",
       "      <td>name kalini black &amp; off white pure cotton prin...</td>\n",
       "      <td>1.097840</td>\n",
       "      <td>{'avg_rating': 4.468085106, 'blouse': 'blouse ...</td>\n",
       "      <td>-1.018327</td>\n",
       "    </tr>\n",
       "    <tr>\n",
       "      <th>2</th>\n",
       "      <td>17407676</td>\n",
       "      <td>name kalini black &amp; beige silk blend bandhani ...</td>\n",
       "      <td>1.132728</td>\n",
       "      <td>{'avg_rating': 4.5, 'blouse': 'blouse piece', ...</td>\n",
       "      <td>-1.950579</td>\n",
       "    </tr>\n",
       "  </tbody>\n",
       "</table>\n",
       "</div>"
      ],
      "text/plain": [
       "        IDs                                          Documents  Distances  \\\n",
       "0  17035744  name kalini black & golden woven design saree ...   1.067969   \n",
       "1  16748456  name kalini black & off white pure cotton prin...   1.097840   \n",
       "2  17407676  name kalini black & beige silk blend bandhani ...   1.132728   \n",
       "\n",
       "                                           Metadatas  Reranked_scores  \n",
       "0  {'avg_rating': 4.434782609, 'blouse': 'blouse ...        -0.738804  \n",
       "1  {'avg_rating': 4.468085106, 'blouse': 'blouse ...        -1.018327  \n",
       "2  {'avg_rating': 4.5, 'blouse': 'blouse piece', ...        -1.950579  "
      ]
     },
     "execution_count": 54,
     "metadata": {},
     "output_type": "execute_result"
    }
   ],
   "source": [
    "top_3_semantic = results_df.sort_values(by='Distances')\n",
    "top_3_semantic[:3]"
   ]
  },
  {
   "cell_type": "code",
   "execution_count": 55,
   "id": "8aebbcea-8632-4679-83ff-a88c0a5453b7",
   "metadata": {},
   "outputs": [
    {
     "data": {
      "text/html": [
       "<div>\n",
       "<style scoped>\n",
       "    .dataframe tbody tr th:only-of-type {\n",
       "        vertical-align: middle;\n",
       "    }\n",
       "\n",
       "    .dataframe tbody tr th {\n",
       "        vertical-align: top;\n",
       "    }\n",
       "\n",
       "    .dataframe thead th {\n",
       "        text-align: right;\n",
       "    }\n",
       "</style>\n",
       "<table border=\"1\" class=\"dataframe\">\n",
       "  <thead>\n",
       "    <tr style=\"text-align: right;\">\n",
       "      <th></th>\n",
       "      <th>IDs</th>\n",
       "      <th>Documents</th>\n",
       "      <th>Distances</th>\n",
       "      <th>Metadatas</th>\n",
       "      <th>Reranked_scores</th>\n",
       "    </tr>\n",
       "  </thead>\n",
       "  <tbody>\n",
       "    <tr>\n",
       "      <th>0</th>\n",
       "      <td>17035744</td>\n",
       "      <td>name kalini black &amp; golden woven design saree ...</td>\n",
       "      <td>1.067969</td>\n",
       "      <td>{'avg_rating': 4.434782609, 'blouse': 'blouse ...</td>\n",
       "      <td>-0.738804</td>\n",
       "    </tr>\n",
       "    <tr>\n",
       "      <th>1</th>\n",
       "      <td>16748456</td>\n",
       "      <td>name kalini black &amp; off white pure cotton prin...</td>\n",
       "      <td>1.097840</td>\n",
       "      <td>{'avg_rating': 4.468085106, 'blouse': 'blouse ...</td>\n",
       "      <td>-1.018327</td>\n",
       "    </tr>\n",
       "    <tr>\n",
       "      <th>3</th>\n",
       "      <td>12754022</td>\n",
       "      <td>name kalini black &amp; red jute silk embroidered ...</td>\n",
       "      <td>1.135782</td>\n",
       "      <td>{'avg_rating': 4.055282555, 'blouse': 'blouse ...</td>\n",
       "      <td>-1.321804</td>\n",
       "    </tr>\n",
       "  </tbody>\n",
       "</table>\n",
       "</div>"
      ],
      "text/plain": [
       "        IDs                                          Documents  Distances  \\\n",
       "0  17035744  name kalini black & golden woven design saree ...   1.067969   \n",
       "1  16748456  name kalini black & off white pure cotton prin...   1.097840   \n",
       "3  12754022  name kalini black & red jute silk embroidered ...   1.135782   \n",
       "\n",
       "                                           Metadatas  Reranked_scores  \n",
       "0  {'avg_rating': 4.434782609, 'blouse': 'blouse ...        -0.738804  \n",
       "1  {'avg_rating': 4.468085106, 'blouse': 'blouse ...        -1.018327  \n",
       "3  {'avg_rating': 4.055282555, 'blouse': 'blouse ...        -1.321804  "
      ]
     },
     "execution_count": 55,
     "metadata": {},
     "output_type": "execute_result"
    }
   ],
   "source": [
    "top_3_rerank = results_df.sort_values(by='Reranked_scores', ascending=False)\n",
    "top_3_rerank[:3]"
   ]
  },
  {
   "cell_type": "code",
   "execution_count": 56,
   "id": "159417aa-153f-4af1-9a50-7f69202a5290",
   "metadata": {},
   "outputs": [
    {
     "name": "stdout",
     "output_type": "stream",
     "text": [
      "['name kalini black & golden woven design saree description <b> design details </b> <ul> <li> black and gold-toned saree </li> <li> geometric woven design saree with woven design border </li> </ul> <br> the saree comes with an unstitched blouse piece<br>the blouse worn by the model might be for modelling purpose only. check the image of the blouse piece to understand how the actual blouse piece looks like.<p>dryclean</p>length: 5.5 metres plus 0.8 metre blouse piece <br> width: 1.06 metres (approx.) product Saree description blouse = blouse piece \\n blouse fabric = pure silk \\n border = woven design \\n care for me = na \\n multipack set = na \\n occasion = festive \\n ornamentation = na \\n pattern = woven design \\n print or pattern type = geometric \\n saree fabric = pure silk \\n sustainable = regular \\n trends = celebrity saree \\n type = na \\n wash care = dry clean \\n wedding = bride & wedding squad \\n color = black \\n brand = kalini \\n price = 3699 \\n ratingCount = 23 \\n avg_rating = 4.434782609 \\n img = http://assets.myntassets.com/assets/images/17035744/2022/2/18/45753fab-ac72-400d-91df-d5f0fe8a7d111645165007221-KALINI-Women-Sarees-2461645165005794-1.jpg \\n', 'name kalini black & off white pure cotton printed saree description <b> design details </b> <ul> <li> black and off white saree </li> <li> geometric woven design saree with solid border </li> </ul> <br> the saree comes with an unstitched blouse piece<br>the blouse worn by the model might be for modelling purpose only. check the image of the blouse piece to understand how the actual blouse piece looks like.length: 5.5 metres plus 0.8 metre blouse piece <br> width: 1.06 metres (approx.)pure cotton<br>dryclean product Saree description blouse = blouse piece \\n blouse fabric = pure cotton \\n border = solid \\n care for me = na \\n multipack set = na \\n occasion = daily \\n ornamentation = na \\n pattern = woven design \\n print or pattern type = geometric \\n saree fabric = pure cotton \\n sustainable = regular \\n trends = na \\n type = na \\n wash care = dry clean \\n color = black \\n brand = kalini \\n price = 3265 \\n ratingCount = 47 \\n avg_rating = 4.468085106 \\n img = http://assets.myntassets.com/assets/images/16748456/2022/2/7/4dab8118-1cd1-4ff2-94b8-2969599c4eca1644215462540-KALINI-Women-Sarees-3681644215461834-1.jpg \\n', 'name kalini black & red jute silk embroidered saree description <b>design details:</b><br>black and red embroidered saree and has a printed border<br>the model is wearing a stitched version of the blouse. but the saree comes with an unstitched blouse<br><b>ornamentation:</b><br>this is an art form in which mirrors of various shapes are fixed on to the fabric through embroidery.length: 5.5 metres plus 0.8 metre blouse piece<br>width: 1.06 metres (approx)saree fabric: jute silk<br>blouse fabric: jute silk<br>hand-wash product Saree description blouse = blouse piece \\n blouse fabric = jute silk \\n border = printed \\n occasion = festive \\n ornamentation = mirror work \\n pattern = embroidered \\n print or pattern type = embellished \\n saree fabric = jute silk \\n sustainable = regular \\n trends = na \\n type = na \\n wash care = hand wash \\n color = black \\n brand = kalini \\n price = 2653 \\n ratingCount = 814 \\n avg_rating = 4.055282555 \\n img = http://assets.myntassets.com/assets/images/12754022/2020/11/10/bebe2d45-7864-4503-a780-ffff31260cbf1605006205555-Kalini-Black--Red-Jute-Silk-Mirror-Embroidered-Saree-7941605-1.jpg \\n']\n",
      "[{'avg_rating': 4.434782609, 'blouse': 'blouse piece', 'blouse fabric': 'pure silk', 'border': 'woven design', 'brand': 'kalini', 'care for me': 'na', 'color': 'black', 'img': 'http://assets.myntassets.com/assets/images/17035744/2022/2/18/45753fab-ac72-400d-91df-d5f0fe8a7d111645165007221-KALINI-Women-Sarees-2461645165005794-1.jpg', 'multipack set': 'na', 'occasion': 'festive', 'ornamentation': 'na', 'pattern': 'woven design', 'price': 3699, 'print or pattern type': 'geometric', 'ratingCount': 23, 'saree fabric': 'pure silk', 'sustainable': 'regular', 'trends': 'celebrity saree', 'type': 'na', 'wash care': 'dry clean', 'wedding': 'bride & wedding squad'}, {'avg_rating': 4.468085106, 'blouse': 'blouse piece', 'blouse fabric': 'pure cotton', 'border': 'solid', 'brand': 'kalini', 'care for me': 'na', 'color': 'black', 'img': 'http://assets.myntassets.com/assets/images/16748456/2022/2/7/4dab8118-1cd1-4ff2-94b8-2969599c4eca1644215462540-KALINI-Women-Sarees-3681644215461834-1.jpg', 'multipack set': 'na', 'occasion': 'daily', 'ornamentation': 'na', 'pattern': 'woven design', 'price': 3265, 'print or pattern type': 'geometric', 'ratingCount': 47, 'saree fabric': 'pure cotton', 'sustainable': 'regular', 'trends': 'na', 'type': 'na', 'wash care': 'dry clean'}, {'avg_rating': 4.055282555, 'blouse': 'blouse piece', 'blouse fabric': 'jute silk', 'border': 'printed', 'brand': 'kalini', 'color': 'black', 'img': 'http://assets.myntassets.com/assets/images/12754022/2020/11/10/bebe2d45-7864-4503-a780-ffff31260cbf1605006205555-Kalini-Black--Red-Jute-Silk-Mirror-Embroidered-Saree-7941605-1.jpg', 'occasion': 'festive', 'ornamentation': 'mirror work', 'pattern': 'embroidered', 'price': 2653, 'print or pattern type': 'embellished', 'ratingCount': 814, 'saree fabric': 'jute silk', 'sustainable': 'regular', 'trends': 'na', 'type': 'na', 'wash care': 'hand wash'}]\n"
     ]
    }
   ],
   "source": [
    "top_3_RAG = top_3_rerank[[\"Documents\", \"Metadatas\"]][:3] if len(top_3_rerank) > 3 else top_3_rerank\n",
    "print(top_3_RAG[\"Documents\"].tolist())\n",
    "print(top_3_RAG[\"Metadatas\"].tolist())"
   ]
  },
  {
   "cell_type": "code",
   "execution_count": null,
   "id": "1b2ab5da-6517-46d8-89d4-3185459f8a04",
   "metadata": {},
   "outputs": [],
   "source": []
  },
  {
   "cell_type": "markdown",
   "id": "6b7e4333-fe39-45c1-b0d3-417637d6fe17",
   "metadata": {},
   "source": [
    "## 6. Retrieval Augmented Generation\n",
    "\n",
    "This function takes the user query and top 3 results and displays it in HTML format so that the Jupyter notebook can display it properly.\n",
    "\n",
    "The OpenAI chat completion is used for this purpose."
   ]
  },
  {
   "cell_type": "code",
   "execution_count": 58,
   "id": "a9c41ff6-67d2-4bd3-9766-ea5c0c9e3e08",
   "metadata": {},
   "outputs": [],
   "source": [
    "def display_results(user_query, top_3_RAG):\n",
    "    prompt = f\"\"\"\n",
    "You are a helpful assistant and a fashion expert.\n",
    "The user is querying shopping data which contains various fashion apparel.\n",
    "You have a question asked by the user in '{user_query}' and you have some search results from shopping data in the dataframe '{top_3_RAG[\"Documents\"].tolist()}'. \n",
    "These search results are closest match for the shopping results that user is interested in.\n",
    "Display as much information from \"Metadatas\" as possible. You should definitely display \"Price\", \"Rating\", \"Color\", \"Brand\". \n",
    "Also include a detailed description of each product.\n",
    "The price is in Indian Rupees and has a symbol of ₹.\n",
    "The \"img\" in the \"metadata\" has the product image url. Strictly use this value in the \"src\" attribute of <img> HTML tag. Don't use placeholder. Use actual image URL.\n",
    "Any more information also will help.\n",
    "\n",
    "Please return the data in HTML format. The results will be directly used to display on a browser.\n",
    "\n",
    "The HTML should:\n",
    "- Be visually appealing.\n",
    "- Use a grid layout for the products.\n",
    "- Include CSS for basic styling.\n",
    "- Response should contain only HTML and CSS elements. It should not have any prefix or suffix like ```html or ```\n",
    "\n",
    "\"\"\"\n",
    "\n",
    "    # Make the API call\n",
    "    try:\n",
    "        response = openai.chat.completions.create(\n",
    "            model=\"gpt-4o-mini\",\n",
    "            messages=[{\"role\": \"system\", \"content\": \"You are a helpful assistant and a fashion expert.\"},\n",
    "                      {\"role\": \"user\", \"content\": prompt}]\n",
    "        )\n",
    "\n",
    "        return response.choices[0].message.content\n",
    "    except:\n",
    "        return ''\n"
   ]
  },
  {
   "cell_type": "markdown",
   "id": "23fc392f-bf58-42b5-b2a8-079038f188d6",
   "metadata": {},
   "source": [
    "Testing the RAG function"
   ]
  },
  {
   "cell_type": "code",
   "execution_count": 60,
   "id": "8c17e18e-98be-4983-8185-03af5553990d",
   "metadata": {},
   "outputs": [
    {
     "data": {
      "text/html": [
       "<!DOCTYPE html>\n",
       "<html lang=\"en\">\n",
       "<head>\n",
       "    <meta charset=\"UTF-8\">\n",
       "    <meta name=\"viewport\" content=\"width=device-width, initial-scale=1.0\">\n",
       "    <title>Black Saree Collection</title>\n",
       "    <style>\n",
       "        body {\n",
       "            font-family: Arial, sans-serif;\n",
       "            background-color: #f4f4f4;\n",
       "            padding: 20px;\n",
       "        }\n",
       "        .container {\n",
       "            display: grid;\n",
       "            grid-template-columns: repeat(auto-fill, minmax(300px, 1fr));\n",
       "            gap: 20px;\n",
       "        }\n",
       "        .product-card {\n",
       "            background: white;\n",
       "            border-radius: 5px;\n",
       "            box-shadow: 0 2px 5px rgba(0, 0, 0, 0.1);\n",
       "            overflow: hidden;\n",
       "            transition: transform 0.2s;\n",
       "        }\n",
       "        .product-card:hover {\n",
       "            transform: scale(1.05);\n",
       "        }\n",
       "        .image-container {\n",
       "            width: 100%;\n",
       "            height: 200px;\n",
       "            overflow: hidden;\n",
       "        }\n",
       "        .image-container img {\n",
       "            width: 100%;\n",
       "            height: auto;\n",
       "            transition: transform 0.5s;\n",
       "        }\n",
       "        .product-card:hover .image-container img {\n",
       "            transform: scale(1.1);\n",
       "        }\n",
       "        .product-details {\n",
       "            padding: 15px;\n",
       "        }\n",
       "        .product-name {\n",
       "            font-size: 18px;\n",
       "            font-weight: bold;\n",
       "            margin: 0 0 10px;\n",
       "        }\n",
       "        .price {\n",
       "            color: green;\n",
       "            font-size: 16px;\n",
       "            margin: 5px 0;\n",
       "        }\n",
       "        .rating {\n",
       "            color: #FFD700;\n",
       "            margin: 5px 0;\n",
       "        }\n",
       "        .description {\n",
       "            font-size: 14px;\n",
       "            color: #555;\n",
       "            margin: 10px 0;\n",
       "        }\n",
       "    </style>\n",
       "</head>\n",
       "<body>\n",
       "\n",
       "<div class=\"container\">\n",
       "    <div class=\"product-card\">\n",
       "        <div class=\"image-container\">\n",
       "            <img src=\"http://assets.myntassets.com/assets/images/17035744/2022/2/18/45753fab-ac72-400d-91df-d5f0fe8a7d111645165007221-KALINI-Women-Sarees-2461645165005794-1.jpg\" alt=\"Kalini Black & Golden Woven Design Saree\">\n",
       "        </div>\n",
       "        <div class=\"product-details\">\n",
       "            <div class=\"product-name\">Kalini Black & Golden Woven Design Saree</div>\n",
       "            <div class=\"price\">Price: ₹3699</div>\n",
       "            <div class=\"rating\">Rating: ★★★★☆ (4.43)</div>\n",
       "            <div class=\"description\">\n",
       "                <b>Design Details:</b><br>\n",
       "                Black and gold-toned saree with geometric woven design and woven design border. Comes with an unstitched blouse piece. Dry clean only. Length: 5.5 metres + 0.8 metre blouse piece.\n",
       "            </div>\n",
       "            <div><b>Color:</b> Black</div>\n",
       "            <div><b>Brand:</b> Kalini</div>\n",
       "        </div>\n",
       "    </div>\n",
       "\n",
       "    <div class=\"product-card\">\n",
       "        <div class=\"image-container\">\n",
       "            <img src=\"http://assets.myntassets.com/assets/images/16748456/2022/2/7/4dab8118-1cd1-4ff2-94b8-2969599c4eca1644215462540-KALINI-Women-Sarees-3681644215461834-1.jpg\" alt=\"Kalini Black & Off White Pure Cotton Printed Saree\">\n",
       "        </div>\n",
       "        <div class=\"product-details\">\n",
       "            <div class=\"product-name\">Kalini Black & Off White Pure Cotton Printed Saree</div>\n",
       "            <div class=\"price\">Price: ₹3265</div>\n",
       "            <div class=\"rating\">Rating: ★★★★☆ (4.47)</div>\n",
       "            <div class=\"description\">\n",
       "                <b>Design Details:</b><br>\n",
       "                Black and off white saree with geometric woven design and solid border. Comes with an unstitched blouse piece. Dry clean only. Length: 5.5 metres + 0.8 metre blouse piece.\n",
       "            </div>\n",
       "            <div><b>Color:</b> Black</div>\n",
       "            <div><b>Brand:</b> Kalini</div>\n",
       "        </div>\n",
       "    </div>\n",
       "\n",
       "    <div class=\"product-card\">\n",
       "        <div class=\"image-container\">\n",
       "            <img src=\"http://assets.myntassets.com/assets/images/12754022/2020/11/10/bebe2d45-7864-4503-a780-ffff31260cbf1605006205555-Kalini-Black--Red-Jute-Silk-Mirror-Embroidered-Saree-7941605-1.jpg\" alt=\"Kalini Black & Red Jute Silk Embroidered Saree\">\n",
       "        </div>\n",
       "        <div class=\"product-details\">\n",
       "            <div class=\"product-name\">Kalini Black & Red Jute Silk Embroidered Saree</div>\n",
       "            <div class=\"price\">Price: ₹2653</div>\n",
       "            <div class=\"rating\">Rating: ★★★★☆ (4.06)</div>\n",
       "            <div class=\"description\">\n",
       "                <b>Design Details:</b><br>\n",
       "                Black and red embroidered saree with a printed border. Features mirror work. Comes with an unstitched blouse piece. Hand wash only. Length: 5.5 metres + 0.8 metre blouse piece.\n",
       "            </div>\n",
       "            <div><b>Color:</b> Black</div>\n",
       "            <div><b>Brand:</b> Kalini</div>\n",
       "        </div>\n",
       "    </div>\n",
       "</div>\n",
       "\n",
       "</body>\n",
       "</html>"
      ],
      "text/plain": [
       "<IPython.core.display.HTML object>"
      ]
     },
     "metadata": {},
     "output_type": "display_data"
    }
   ],
   "source": [
    "RAG_results_HTML = display_results(user_query=user_query, top_3_RAG=top_3_RAG)\n",
    "display(HTML(RAG_results_HTML))"
   ]
  },
  {
   "cell_type": "markdown",
   "id": "e0f1a13b-d15b-449d-85a3-4c10e85487d1",
   "metadata": {},
   "source": [
    "## 7. Putting it all together"
   ]
  },
  {
   "cell_type": "code",
   "execution_count": 62,
   "id": "f7170c27-43a2-43a1-bfa4-07a2afb7ec56",
   "metadata": {},
   "outputs": [],
   "source": [
    "def find_fashion_deals(user_query):\n",
    "    results_df = fetch_data(user_query)\n",
    "    if len(results_df) > 0:\n",
    "        results_df = perform_cross_validation(user_query, results_df)\n",
    "        results_reranked_sorted = results_df.sort_values(by='Reranked_scores', ascending=False)\n",
    "        top_3_rerank = results_reranked_sorted[:3] if len(results_reranked_sorted) > 3 else results_reranked_sorted\n",
    "        top_3_RAG = top_3_rerank[[\"Documents\", \"Metadatas\"]]\n",
    "        RAG_results_HTML = display_results(user_query, top_3_RAG)\n",
    "        display(HTML(RAG_results_HTML))\n",
    "    else:\n",
    "        print('[FASHION SEARCH AI]: No products found for your search.')\n",
    "    "
   ]
  },
  {
   "cell_type": "code",
   "execution_count": 112,
   "id": "ee00f43d-6555-483c-b8da-c5cb9456db41",
   "metadata": {},
   "outputs": [
    {
     "name": "stdin",
     "output_type": "stream",
     "text": [
      "[FASHION SEARCH AI]: Please enter your query to find the best of deals!\n",
      "  Find me red kurtas with mandarin collar with user rating above 4\n"
     ]
    },
    {
     "data": {
      "text/html": [
       "<!DOCTYPE html>\n",
       "<html lang=\"en\">\n",
       "<head>\n",
       "    <meta charset=\"UTF-8\">\n",
       "    <meta name=\"viewport\" content=\"width=device-width, initial-scale=1.0\">\n",
       "    <title>Red Kurtas with Mandarin Collar</title>\n",
       "    <style>\n",
       "        body {\n",
       "            font-family: Arial, sans-serif;\n",
       "            margin: 0;\n",
       "            padding: 0;\n",
       "            background-color: #f9f9f9;\n",
       "        }\n",
       "        .container {\n",
       "            width: 90%;\n",
       "            margin: auto;\n",
       "            display: grid;\n",
       "            grid-template-columns: repeat(auto-fill, minmax(250px, 1fr));\n",
       "            gap: 15px;\n",
       "            padding: 20px;\n",
       "        }\n",
       "        .product-card {\n",
       "            background-color: white;\n",
       "            border-radius: 8px;\n",
       "            box-shadow: 0 2px 8px rgba(0, 0, 0, 0.1);\n",
       "            overflow: hidden;\n",
       "            transition: transform 0.2s;\n",
       "        }\n",
       "        .product-card:hover {\n",
       "            transform: scale(1.05);\n",
       "        }\n",
       "        .product-image img {\n",
       "            width: 100%;\n",
       "            height: auto;\n",
       "        }\n",
       "        .product-info {\n",
       "            padding: 15px;\n",
       "        }\n",
       "        .product-info h2 {\n",
       "            font-size: 1.2em;\n",
       "            margin: 0;\n",
       "        }\n",
       "        .product-info p {\n",
       "            margin: 10px 0;\n",
       "            color: #555;\n",
       "        }\n",
       "        .product-info .price {\n",
       "            font-size: 1.5em;\n",
       "            color: #333;\n",
       "        }\n",
       "        .product-info .rating {\n",
       "            color: gold;\n",
       "        }\n",
       "    </style>\n",
       "</head>\n",
       "<body>\n",
       "    <div class=\"container\">\n",
       "        <div class=\"product-card\">\n",
       "            <div class=\"product-image\">\n",
       "                <img src=\"http://assets.myntassets.com/assets/images/14854916/2021/10/27/7c8c9cd2-8ea3-4523-a827-44cbcbdc42141635336538528-Anouk-Women-Kurtas-6561635336537738-1.jpg\" alt=\"Anouk Women Red & Navy Blue Striped Kurta\">\n",
       "            </div>\n",
       "            <div class=\"product-info\">\n",
       "                <h2>Anouk Women Red & Navy Blue Striped Kurta</h2>\n",
       "                <p><strong>Description:</strong> This beautiful red and navy blue striped kurta features a mandarin collar and long regular sleeves. It has a straight shape and calf-length design crafted from a regular polyester weave.</p>\n",
       "                <p class=\"price\">Price: ₹1399</p>\n",
       "                <p class=\"rating\">Rating: ★★★★☆ (4.23)</p>\n",
       "                <p>Color: Red and Navy Blue</p>\n",
       "                <p>Brand: Anouk</p>\n",
       "            </div>\n",
       "        </div>\n",
       "        \n",
       "        <div class=\"product-card\">\n",
       "            <div class=\"product-image\">\n",
       "                <img src=\"http://assets.myntassets.com/assets/images/13415752/2021/2/26/5996e097-b07b-428c-8202-e764199818271614317038830-AHIKA-Women-Kurtas-441614317037118-1.jpg\" alt=\"Ahika Women Red Solid Kurta\">\n",
       "            </div>\n",
       "            <div class=\"product-info\">\n",
       "                <h2>Ahika Women Red Solid Kurta</h2>\n",
       "                <p><strong>Description:</strong> A stunning solid red kurta with a mandarin collar and three-quarter sleeves. This calf-length kurta features a flared hem and is made from pure viscose rayon.</p>\n",
       "                <p class=\"price\">Price: ₹1737</p>\n",
       "                <p class=\"rating\">Rating: ★★★★☆ (4.37)</p>\n",
       "                <p>Color: Red</p>\n",
       "                <p>Brand: Ahika</p>\n",
       "            </div>\n",
       "        </div>\n",
       "\n",
       "        <div class=\"product-card\">\n",
       "            <div class=\"product-image\">\n",
       "                <img src=\"http://assets.myntassets.com/assets/images/2322905/2018/10/10/9fda06f4-c161-4dfd-ba52-f4e3bf80991b1539148680241-Anouk-Women-Red--Cream-Coloured-Printed-Kurti-95915391486788-1.jpg\" alt=\"Anouk Women Red & Cream Printed Kurti\">\n",
       "            </div>\n",
       "            <div class=\"product-info\">\n",
       "                <h2>Anouk Women Red & Cream Printed Kurti</h2>\n",
       "                <p><strong>Description:</strong> This exquisite kurti features a mandarin collar and cold-shoulder three-quarter sleeves. The straight hem and printed design make it perfect for daily wear, crafted from pure cotton.</p>\n",
       "                <p class=\"price\">Price: ₹999</p>\n",
       "                <p class=\"rating\">Rating: ★★★★☆ (4.05)</p>\n",
       "                <p>Color: Red</p>\n",
       "                <p>Brand: Anouk</p>\n",
       "            </div>\n",
       "        </div>\n",
       "    </div>\n",
       "</body>\n",
       "</html>"
      ],
      "text/plain": [
       "<IPython.core.display.HTML object>"
      ]
     },
     "metadata": {},
     "output_type": "display_data"
    }
   ],
   "source": [
    "user_query = input(\"[FASHION SEARCH AI]: Please enter your query to find the best of deals!\\n\")\n",
    "find_fashion_deals(user_query)"
   ]
  },
  {
   "cell_type": "code",
   "execution_count": null,
   "id": "f268a69c-f209-47a7-9d76-7c6622b9f56d",
   "metadata": {},
   "outputs": [],
   "source": []
  }
 ],
 "metadata": {
  "kernelspec": {
   "display_name": "Python 3 (ipykernel)",
   "language": "python",
   "name": "python3"
  },
  "language_info": {
   "codemirror_mode": {
    "name": "ipython",
    "version": 3
   },
   "file_extension": ".py",
   "mimetype": "text/x-python",
   "name": "python",
   "nbconvert_exporter": "python",
   "pygments_lexer": "ipython3",
   "version": "3.12.7"
  }
 },
 "nbformat": 4,
 "nbformat_minor": 5
}
