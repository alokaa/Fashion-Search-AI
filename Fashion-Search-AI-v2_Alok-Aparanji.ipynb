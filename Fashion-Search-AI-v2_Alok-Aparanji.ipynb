{
 "cells": [
  {
   "cell_type": "code",
   "execution_count": 1,
   "id": "92d5cdc4-5081-4ad5-a081-6d356d75abce",
   "metadata": {},
   "outputs": [],
   "source": [
    "import numpy as np\n",
    "import pandas as pd\n",
    "import chromadb\n",
    "import openai\n",
    "import json"
   ]
  },
  {
   "cell_type": "markdown",
   "id": "2f6cd114-46f9-465d-a29d-d1b14533a2bf",
   "metadata": {},
   "source": [
    "#### Loading the dataset"
   ]
  },
  {
   "cell_type": "code",
   "execution_count": 3,
   "id": "83d7a980-ebd5-47b7-8e24-4da0a498cd9c",
   "metadata": {
    "scrolled": true
   },
   "outputs": [
    {
     "data": {
      "text/html": [
       "<div>\n",
       "<style scoped>\n",
       "    .dataframe tbody tr th:only-of-type {\n",
       "        vertical-align: middle;\n",
       "    }\n",
       "\n",
       "    .dataframe tbody tr th {\n",
       "        vertical-align: top;\n",
       "    }\n",
       "\n",
       "    .dataframe thead th {\n",
       "        text-align: right;\n",
       "    }\n",
       "</style>\n",
       "<table border=\"1\" class=\"dataframe\">\n",
       "  <thead>\n",
       "    <tr style=\"text-align: right;\">\n",
       "      <th></th>\n",
       "      <th>p_id</th>\n",
       "      <th>name</th>\n",
       "      <th>products</th>\n",
       "      <th>price</th>\n",
       "      <th>colour</th>\n",
       "      <th>brand</th>\n",
       "      <th>img</th>\n",
       "      <th>ratingCount</th>\n",
       "      <th>avg_rating</th>\n",
       "      <th>description</th>\n",
       "      <th>p_attributes</th>\n",
       "    </tr>\n",
       "  </thead>\n",
       "  <tbody>\n",
       "    <tr>\n",
       "      <th>0</th>\n",
       "      <td>17048614</td>\n",
       "      <td>Khushal K Women Black Ethnic Motifs Printed Ku...</td>\n",
       "      <td>Kurta, Palazzos, Dupatta</td>\n",
       "      <td>5099</td>\n",
       "      <td>Black</td>\n",
       "      <td>Khushal K</td>\n",
       "      <td>http://assets.myntassets.com/assets/images/170...</td>\n",
       "      <td>4522.0</td>\n",
       "      <td>4.418399</td>\n",
       "      <td>Black printed Kurta with Palazzos with dupatta...</td>\n",
       "      <td>{'Add-Ons': 'NA', 'Body Shape ID': '443,333,32...</td>\n",
       "    </tr>\n",
       "    <tr>\n",
       "      <th>1</th>\n",
       "      <td>16524740</td>\n",
       "      <td>InWeave Women Orange Solid Kurta with Palazzos...</td>\n",
       "      <td>Kurta, Palazzos, Floral Print Dupatta</td>\n",
       "      <td>5899</td>\n",
       "      <td>Orange</td>\n",
       "      <td>InWeave</td>\n",
       "      <td>http://assets.myntassets.com/assets/images/165...</td>\n",
       "      <td>1081.0</td>\n",
       "      <td>4.119334</td>\n",
       "      <td>Orange solid Kurta with Palazzos with dupatta&lt;...</td>\n",
       "      <td>{'Add-Ons': 'NA', 'Body Shape ID': '443,333,32...</td>\n",
       "    </tr>\n",
       "    <tr>\n",
       "      <th>2</th>\n",
       "      <td>16331376</td>\n",
       "      <td>Anubhutee Women Navy Blue Ethnic Motifs Embroi...</td>\n",
       "      <td>Kurta, Trousers, Dupatta</td>\n",
       "      <td>4899</td>\n",
       "      <td>Navy Blue</td>\n",
       "      <td>Anubhutee</td>\n",
       "      <td>http://assets.myntassets.com/assets/images/163...</td>\n",
       "      <td>1752.0</td>\n",
       "      <td>4.161530</td>\n",
       "      <td>Navy blue embroidered Kurta with Trousers with...</td>\n",
       "      <td>{'Add-Ons': 'NA', 'Body Shape ID': '333,424', ...</td>\n",
       "    </tr>\n",
       "    <tr>\n",
       "      <th>3</th>\n",
       "      <td>14709966</td>\n",
       "      <td>Nayo Women Red Floral Printed Kurta With Trous...</td>\n",
       "      <td>Kurta, Trouser, Dupatta</td>\n",
       "      <td>3699</td>\n",
       "      <td>Red</td>\n",
       "      <td>Nayo</td>\n",
       "      <td>http://assets.myntassets.com/assets/images/147...</td>\n",
       "      <td>4113.0</td>\n",
       "      <td>4.088986</td>\n",
       "      <td>Red printed kurta with trouser and dupatta&lt;br&gt;...</td>\n",
       "      <td>{'Add-Ons': 'NA', 'Body Shape ID': '333,424', ...</td>\n",
       "    </tr>\n",
       "    <tr>\n",
       "      <th>4</th>\n",
       "      <td>11056154</td>\n",
       "      <td>AHIKA Women Black &amp; Green Printed Straight Kurta</td>\n",
       "      <td>Kurta</td>\n",
       "      <td>1350</td>\n",
       "      <td>Black</td>\n",
       "      <td>AHIKA</td>\n",
       "      <td>http://assets.myntassets.com/assets/images/110...</td>\n",
       "      <td>21274.0</td>\n",
       "      <td>3.978377</td>\n",
       "      <td>Black and green printed straight kurta, has a ...</td>\n",
       "      <td>{'Body Shape ID': '424', 'Body or Garment Size...</td>\n",
       "    </tr>\n",
       "  </tbody>\n",
       "</table>\n",
       "</div>"
      ],
      "text/plain": [
       "       p_id                                               name  \\\n",
       "0  17048614  Khushal K Women Black Ethnic Motifs Printed Ku...   \n",
       "1  16524740  InWeave Women Orange Solid Kurta with Palazzos...   \n",
       "2  16331376  Anubhutee Women Navy Blue Ethnic Motifs Embroi...   \n",
       "3  14709966  Nayo Women Red Floral Printed Kurta With Trous...   \n",
       "4  11056154   AHIKA Women Black & Green Printed Straight Kurta   \n",
       "\n",
       "                                products  price     colour      brand  \\\n",
       "0               Kurta, Palazzos, Dupatta   5099      Black  Khushal K   \n",
       "1  Kurta, Palazzos, Floral Print Dupatta   5899     Orange    InWeave   \n",
       "2               Kurta, Trousers, Dupatta   4899  Navy Blue  Anubhutee   \n",
       "3                Kurta, Trouser, Dupatta   3699        Red       Nayo   \n",
       "4                                  Kurta   1350      Black      AHIKA   \n",
       "\n",
       "                                                 img  ratingCount  avg_rating  \\\n",
       "0  http://assets.myntassets.com/assets/images/170...       4522.0    4.418399   \n",
       "1  http://assets.myntassets.com/assets/images/165...       1081.0    4.119334   \n",
       "2  http://assets.myntassets.com/assets/images/163...       1752.0    4.161530   \n",
       "3  http://assets.myntassets.com/assets/images/147...       4113.0    4.088986   \n",
       "4  http://assets.myntassets.com/assets/images/110...      21274.0    3.978377   \n",
       "\n",
       "                                         description  \\\n",
       "0  Black printed Kurta with Palazzos with dupatta...   \n",
       "1  Orange solid Kurta with Palazzos with dupatta<...   \n",
       "2  Navy blue embroidered Kurta with Trousers with...   \n",
       "3  Red printed kurta with trouser and dupatta<br>...   \n",
       "4  Black and green printed straight kurta, has a ...   \n",
       "\n",
       "                                        p_attributes  \n",
       "0  {'Add-Ons': 'NA', 'Body Shape ID': '443,333,32...  \n",
       "1  {'Add-Ons': 'NA', 'Body Shape ID': '443,333,32...  \n",
       "2  {'Add-Ons': 'NA', 'Body Shape ID': '333,424', ...  \n",
       "3  {'Add-Ons': 'NA', 'Body Shape ID': '333,424', ...  \n",
       "4  {'Body Shape ID': '424', 'Body or Garment Size...  "
      ]
     },
     "execution_count": 3,
     "metadata": {},
     "output_type": "execute_result"
    }
   ],
   "source": [
    "data = pd.read_csv('Fashion Dataset v2.csv')\n",
    "data.head()"
   ]
  },
  {
   "cell_type": "markdown",
   "id": "b4fa7e51-1a74-4494-b1a5-3f4eae0bc828",
   "metadata": {},
   "source": [
    "### Performing EDA on the data"
   ]
  },
  {
   "cell_type": "code",
   "execution_count": 5,
   "id": "f7f5e43d-8603-4303-954e-fc6699b744d5",
   "metadata": {},
   "outputs": [
    {
     "data": {
      "text/plain": [
       "14214"
      ]
     },
     "execution_count": 5,
     "metadata": {},
     "output_type": "execute_result"
    }
   ],
   "source": [
    "len(data)"
   ]
  },
  {
   "cell_type": "code",
   "execution_count": 6,
   "id": "d680bdba-fbdd-481e-8837-e0d32f0c1a58",
   "metadata": {},
   "outputs": [
    {
     "data": {
      "text/plain": [
       "p_id              int64\n",
       "name             object\n",
       "products         object\n",
       "price             int64\n",
       "colour           object\n",
       "brand            object\n",
       "img              object\n",
       "ratingCount     float64\n",
       "avg_rating      float64\n",
       "description      object\n",
       "p_attributes     object\n",
       "dtype: object"
      ]
     },
     "execution_count": 6,
     "metadata": {},
     "output_type": "execute_result"
    }
   ],
   "source": [
    "data.dtypes"
   ]
  },
  {
   "cell_type": "markdown",
   "id": "362368fb-4c35-4212-ab0b-85161cf8f9e5",
   "metadata": {},
   "source": [
    "**Checking for the number of unique values**"
   ]
  },
  {
   "cell_type": "code",
   "execution_count": 8,
   "id": "73b4e2e9-1309-409c-9a91-8dd8439a9d22",
   "metadata": {},
   "outputs": [
    {
     "data": {
      "text/plain": [
       "p_id            14214\n",
       "name            13873\n",
       "products          910\n",
       "price            1209\n",
       "colour             50\n",
       "brand            1022\n",
       "img             14214\n",
       "ratingCount       829\n",
       "avg_rating       2367\n",
       "description     14181\n",
       "p_attributes    13089\n",
       "dtype: int64"
      ]
     },
     "execution_count": 8,
     "metadata": {},
     "output_type": "execute_result"
    }
   ],
   "source": [
    "data.nunique()"
   ]
  },
  {
   "cell_type": "markdown",
   "id": "afc8ab64-2ea2-487c-821f-825c422c0af9",
   "metadata": {},
   "source": [
    "**Checking data for null values**"
   ]
  },
  {
   "cell_type": "code",
   "execution_count": 10,
   "id": "2228f30d-71a5-4579-a034-0f60364063d8",
   "metadata": {},
   "outputs": [
    {
     "data": {
      "text/plain": [
       "p_id               0\n",
       "name               0\n",
       "products           0\n",
       "price              0\n",
       "colour             0\n",
       "brand              0\n",
       "img                0\n",
       "ratingCount     7684\n",
       "avg_rating      7684\n",
       "description        0\n",
       "p_attributes       0\n",
       "dtype: int64"
      ]
     },
     "execution_count": 10,
     "metadata": {},
     "output_type": "execute_result"
    }
   ],
   "source": [
    "data.isna().sum()"
   ]
  },
  {
   "cell_type": "markdown",
   "id": "6fdeb29f-2fe3-4c89-9137-29bf2a5c4b57",
   "metadata": {},
   "source": [
    "Fixing the 'ratingCount' and 'avg_rating' columns.\n",
    "\n",
    "The rating is probably null because these could be new products and no one has rated them yet."
   ]
  },
  {
   "cell_type": "code",
   "execution_count": 12,
   "id": "f3b641ae-b472-4152-8396-f803bcdf9f9c",
   "metadata": {},
   "outputs": [
    {
     "data": {
      "text/plain": [
       "p_id            0\n",
       "name            0\n",
       "products        0\n",
       "price           0\n",
       "colour          0\n",
       "brand           0\n",
       "img             0\n",
       "ratingCount     0\n",
       "avg_rating      0\n",
       "description     0\n",
       "p_attributes    0\n",
       "dtype: int64"
      ]
     },
     "execution_count": 12,
     "metadata": {},
     "output_type": "execute_result"
    }
   ],
   "source": [
    "data.loc[data['ratingCount'].isna(), 'ratingCount'] = 0\n",
    "data.loc[data['avg_rating'].isna(), 'avg_rating'] = 0\n",
    "data.isna().sum()"
   ]
  },
  {
   "cell_type": "markdown",
   "id": "ba1b5b65-56c7-4a47-933b-ff6ba2f71c50",
   "metadata": {},
   "source": [
    "##### Examining data types"
   ]
  },
  {
   "cell_type": "code",
   "execution_count": 14,
   "id": "4ce27e22-08a3-42cc-bebc-7086ee7e4071",
   "metadata": {},
   "outputs": [
    {
     "data": {
      "text/plain": [
       "p_id              int64\n",
       "name             object\n",
       "products         object\n",
       "price             int64\n",
       "colour           object\n",
       "brand            object\n",
       "img              object\n",
       "ratingCount     float64\n",
       "avg_rating      float64\n",
       "description      object\n",
       "p_attributes     object\n",
       "dtype: object"
      ]
     },
     "execution_count": 14,
     "metadata": {},
     "output_type": "execute_result"
    }
   ],
   "source": [
    "data.dtypes"
   ]
  },
  {
   "cell_type": "code",
   "execution_count": 15,
   "id": "874a7cdd-0741-4ef3-9c85-8cbfd17ed526",
   "metadata": {},
   "outputs": [],
   "source": [
    "data = data.convert_dtypes()"
   ]
  },
  {
   "cell_type": "code",
   "execution_count": 16,
   "id": "040ef715-5732-42b9-bcad-3a275830ddf9",
   "metadata": {},
   "outputs": [
    {
     "data": {
      "text/plain": [
       "p_id                     Int64\n",
       "name            string[python]\n",
       "products        string[python]\n",
       "price                    Int64\n",
       "colour          string[python]\n",
       "brand           string[python]\n",
       "img             string[python]\n",
       "ratingCount              Int64\n",
       "avg_rating             Float64\n",
       "description     string[python]\n",
       "p_attributes    string[python]\n",
       "dtype: object"
      ]
     },
     "execution_count": 16,
     "metadata": {},
     "output_type": "execute_result"
    }
   ],
   "source": [
    "data.dtypes"
   ]
  },
  {
   "cell_type": "markdown",
   "id": "752cb3c6-3c8e-4e02-86dc-bd1dd8a7afac",
   "metadata": {},
   "source": [
    "EDA is now complete"
   ]
  },
  {
   "cell_type": "code",
   "execution_count": null,
   "id": "5872519b-fca4-437d-9c6e-53a7988bc2b2",
   "metadata": {},
   "outputs": [],
   "source": []
  },
  {
   "cell_type": "code",
   "execution_count": 18,
   "id": "f4d1ad19-591b-403f-97e6-43341bb693de",
   "metadata": {},
   "outputs": [],
   "source": [
    "# Set the API key\n",
    "filepath = \"../\"\n",
    "\n",
    "with open(filepath + \"OPENAI_API_Key.txt\", \"r\") as f:\n",
    "  openai.api_key = ''.join(f.readlines())"
   ]
  },
  {
   "cell_type": "code",
   "execution_count": 19,
   "id": "97535e51-3a33-4645-a143-9c7488fac50f",
   "metadata": {},
   "outputs": [],
   "source": [
    "# Import the OpenAI Embedding Function into chroma\n",
    "\n",
    "from chromadb.utils.embedding_functions import OpenAIEmbeddingFunction"
   ]
  },
  {
   "cell_type": "code",
   "execution_count": 20,
   "id": "838f7339-20c9-4f01-9998-e1668bb2f2a2",
   "metadata": {},
   "outputs": [],
   "source": [
    "# Define the path where chroma collections will be stored\n",
    "\n",
    "chroma_data_path = 'chromadb_data'"
   ]
  },
  {
   "cell_type": "code",
   "execution_count": 21,
   "id": "1ff2983e-1226-42b7-af2e-a59f016f8430",
   "metadata": {},
   "outputs": [],
   "source": [
    "# Call PersistentClient()\n",
    "client = chromadb.PersistentClient(path=chroma_data_path)"
   ]
  },
  {
   "cell_type": "code",
   "execution_count": 22,
   "id": "54097ea7-0b94-44e3-8361-198ab6172204",
   "metadata": {},
   "outputs": [],
   "source": [
    "# Set up the embedding function using the OpenAI embedding model\n",
    "\n",
    "#model = \"text-embedding-ada-002\"\n",
    "#embedding_function = OpenAIEmbeddingFunction(api_key=openai.api_key, model_name=model)\n",
    "\n",
    "from sentence_transformers import SentenceTransformer\n",
    "model = SentenceTransformer('all-MiniLM-L6-v2')"
   ]
  },
  {
   "cell_type": "code",
   "execution_count": 23,
   "id": "a8b2fde9-2f09-4e3f-95f4-8113646bf35f",
   "metadata": {},
   "outputs": [],
   "source": [
    "# Initialise a collection in chroma and pass the embedding_function to it so that it used OpenAI embeddings to embed the documents\n",
    "\n",
    "#fashion_coll = client.get_or_create_collection(name='myntra_fashion_data', embedding_function=embedding_function)\n",
    "client.delete_collection(name='myntra_fashion_data')\n",
    "fashion_coll = client.get_or_create_collection(name='myntra_fashion_data')"
   ]
  },
  {
   "cell_type": "code",
   "execution_count": 24,
   "id": "2b6ab0b2-6a58-47de-8423-ec807aed0f16",
   "metadata": {},
   "outputs": [],
   "source": [
    "documents_list = data[\"description\"].apply(lambda d:d.lower()).tolist()\n",
    "ids = data['p_id'].apply(lambda id:str(id)).tolist()"
   ]
  },
  {
   "cell_type": "code",
   "execution_count": null,
   "id": "797b57ad-6f93-414f-a8e1-4d712f4b0f2e",
   "metadata": {},
   "outputs": [],
   "source": []
  },
  {
   "cell_type": "code",
   "execution_count": 25,
   "id": "5d6a122f-1c9a-4e91-af1d-258e1a807059",
   "metadata": {},
   "outputs": [],
   "source": [
    "import ast\n",
    "#metadata_list = data['p_attributes'].apply(lambda attr:ast.literal_eval(attr)).tolist()\n",
    "def combine_metadatas(row):\n",
    "    metadata_dict = ast.literal_eval(row['p_attributes'].lower())\n",
    "    metadata_dict.update({'color' : row['colour'].lower(), 'brand' : row['brand'].lower(), 'price' : row['price'], 'ratingCount' : row['ratingCount'], 'avg_rating' : row['avg_rating']})\n",
    "    return metadata_dict\n",
    "\n",
    "\n",
    "data['new_metadatas'] = data.apply(combine_metadatas, axis=1)\n",
    "metadata_list = data['new_metadatas'].tolist()\n",
    "\n",
    "#metadata_list"
   ]
  },
  {
   "cell_type": "code",
   "execution_count": 26,
   "id": "a51abc3a-737d-4839-8744-d37185ac87ac",
   "metadata": {},
   "outputs": [],
   "source": [
    "fashion_coll.upsert(\n",
    "#    embeddings=[embedding_function],\n",
    "    documents= documents_list,\n",
    "    ids = ids,\n",
    "    metadatas = metadata_list\n",
    ")"
   ]
  },
  {
   "cell_type": "markdown",
   "id": "db8b6eae-2103-40b2-9da3-8526d5c8b7a1",
   "metadata": {},
   "source": [
    "#### Fetch Query Parameters from OpenAI\n"
   ]
  },
  {
   "cell_type": "code",
   "execution_count": 58,
   "id": "13b206c5-2738-4a69-b02f-2d1c6fb63d45",
   "metadata": {},
   "outputs": [
    {
     "name": "stdout",
     "output_type": "stream",
     "text": [
      "{\n",
      "  \"color\": \"black\"\n",
      "}\n"
     ]
    }
   ],
   "source": [
    "def parse_query_to_where_clause(user_query):\n",
    "    prompt = f\"\"\"\n",
    "You are a helpful assistant that converts user queries into filters for a product database.\n",
    "Given the following user query, extract the conditions and format them as a JSON object for use as a \"where\" clause in ChromaDB.\n",
    "\n",
    "The metadata fields are:\n",
    "- color: string (e.g., \"red\", \"blue\")\n",
    "- price: float (e.g., {{\"$lt\": 15}} for \"under $15\")\n",
    "- brand: string (e.g., \"BrandA\")\n",
    "- rating: float (e.g., {{\"$gt\": 4}} for \"above 4 stars\")\n",
    "\n",
    "\n",
    "User Query: {user_query}\n",
    "\n",
    "Strictly return the \"content\" as a JSON string without the special characters as prefix and suffix.\n",
    "Don't add any attributes other than \"color\", \"price\", \"brand\", \"rating\".\n",
    "None of the attributes are mandatory. If you cannot find a value then don't include the attribute in the response.\n",
    "\"\"\"\n",
    "\n",
    "    # Make the API call\n",
    "    response = openai.chat.completions.create(\n",
    "        model=\"gpt-4o-mini\",\n",
    "        messages=[{\"role\": \"system\", \"content\": \"You are a helpful assistant.\"},\n",
    "                  {\"role\": \"user\", \"content\": prompt}]\n",
    "    )\n",
    "\n",
    "    # Extract and return the response\n",
    "    return response.choices[0].message.content\n",
    "\n",
    "# Example user query\n",
    "user_query = 'Please show me black printed kurtas'\n",
    "where_clause = parse_query_to_where_clause(user_query)\n",
    "print(where_clause)"
   ]
  },
  {
   "cell_type": "code",
   "execution_count": 62,
   "id": "ab50c6e5-9e82-4794-bafc-4e0b8df87aee",
   "metadata": {},
   "outputs": [
    {
     "name": "stdout",
     "output_type": "stream",
     "text": [
      "['black and golden printed straight kurta, has a round neck, three-quarter sleeves, straight hem, and side slits80% viscose rayon and 20% polyester<br>hand-washthe model (height 5\\'8\") is wearing a size s', 'black and white printed kurta with palazzos and dupatta<br>black and white ethnic print straight calf length kurta, has a round neck, three-quarter sleeves, side slits<br>white and black printed palazzos, has elasticated waistband, slip-on closure<br>black and white printed dupatta, has printed bordertop fabric: pure cotton<br>bottom fabric: pure cotton<br>dupatta fabric: pure cotton<br>hand-washthe model (height 5\\'8\") is wearing a size s']\n",
      "[{'avg_rating': 4.15498155, 'body or garment size': 'to-fit denotes body measurements in', 'body shape id': '424', 'brand': 'w', 'color': 'black', 'colour family': 'monochrome', 'design styling': 'regular', 'fabric': 'viscose rayon', 'fabric 2': 'polyester', 'fabric purity': 'synthetic', 'hemline': 'straight', 'length': 'knee length', 'main trend': 'na', 'neck': 'round neck', 'number of pockets': 'na', 'occasion': 'festive', 'ornamentation': 'sequins', 'pattern': 'printed', 'price': 1899, 'print or pattern type': 'ethnic motifs', 'ratingCount': 271, 'shape': 'straight', 'sleeve length': 'three-quarter sleeves', 'sleeve styling': 'regular sleeves', 'slit detail': 'side slits', 'stitch': 'ready to wear', 'sustainable': 'regular', 'technique': 'na', 'wash care': 'hand wash', 'weave pattern': 'regular', 'weave type': 'machine weave', 'wedding': 'guests & gifting'}, {'add-ons': 'na', 'avg_rating': 4.239700375, 'body or garment size': 'garment measurements in', 'body shape id': '443,333,324,424', 'bottom closure': 'slip-on', 'bottom fabric': 'pure cotton', 'bottom pattern': 'printed', 'bottom type': 'palazzos', 'brand': 'yuris', 'character': 'na', 'color': 'black', 'dupatta': 'with dupatta', 'dupatta border': 'printed', 'dupatta fabric': 'pure cotton', 'dupatta pattern': 'printed', 'main trend': 'na', 'neck': 'round neck', 'number of pockets': '1', 'occasion': 'daily', 'ornamentation': 'thread work', 'pattern coverage': 'small', 'price': 3499, 'print or pattern type': 'ethnic motifs', 'ratingCount': 267, 'sleeve length': 'three-quarter sleeves', 'sleeve styling': 'regular sleeves', 'slit detail': 'side slits', 'stitch': 'ready to wear', 'sustainable': 'regular', 'technique': 'block print', 'top design styling': 'regular', 'top fabric': 'pure cotton', 'top hemline': 'straight', 'top length': 'calf length', 'top pattern': 'printed', 'top shape': 'straight', 'top type': 'kurta', 'waistband': 'elasticated', 'wash care': 'hand wash', 'weave pattern': 'regular', 'weave type': 'machine weave'}]\n"
     ]
    }
   ],
   "source": [
    "query='Please show me black printed kurtas'\n",
    "query_embedding = model.encode(query.lower())\n",
    "results = fashion_coll.query(query_embeddings=[query_embedding], n_results=2, where=json.loads(where_clause))\n",
    "for r in results['documents']:\n",
    "    print(r)\n",
    "for r in results['metadatas']:\n",
    "    print(r)"
   ]
  },
  {
   "cell_type": "code",
   "execution_count": null,
   "id": "cbf38982-4eef-45a2-84f2-e32a719def72",
   "metadata": {},
   "outputs": [],
   "source": []
  }
 ],
 "metadata": {
  "kernelspec": {
   "display_name": "Python 3 (ipykernel)",
   "language": "python",
   "name": "python3"
  },
  "language_info": {
   "codemirror_mode": {
    "name": "ipython",
    "version": 3
   },
   "file_extension": ".py",
   "mimetype": "text/x-python",
   "name": "python",
   "nbconvert_exporter": "python",
   "pygments_lexer": "ipython3",
   "version": "3.12.7"
  }
 },
 "nbformat": 4,
 "nbformat_minor": 5
}
